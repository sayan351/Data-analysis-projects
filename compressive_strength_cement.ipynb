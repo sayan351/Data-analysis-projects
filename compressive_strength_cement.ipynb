{
 "cells": [
  {
   "cell_type": "code",
   "execution_count": 1,
   "id": "4cb86f4f",
   "metadata": {},
   "outputs": [
    {
     "data": {
      "text/html": [
       "<div>\n",
       "<style scoped>\n",
       "    .dataframe tbody tr th:only-of-type {\n",
       "        vertical-align: middle;\n",
       "    }\n",
       "\n",
       "    .dataframe tbody tr th {\n",
       "        vertical-align: top;\n",
       "    }\n",
       "\n",
       "    .dataframe thead th {\n",
       "        text-align: right;\n",
       "    }\n",
       "</style>\n",
       "<table border=\"1\" class=\"dataframe\">\n",
       "  <thead>\n",
       "    <tr style=\"text-align: right;\">\n",
       "      <th></th>\n",
       "      <th>cement</th>\n",
       "      <th>blast_furnace_slag</th>\n",
       "      <th>fly_ash</th>\n",
       "      <th>water</th>\n",
       "      <th>superplasticizer</th>\n",
       "      <th>coarse_aggregate</th>\n",
       "      <th>fine_aggregate</th>\n",
       "      <th>age</th>\n",
       "      <th>concrete_compressive_strength</th>\n",
       "    </tr>\n",
       "  </thead>\n",
       "  <tbody>\n",
       "    <tr>\n",
       "      <th>0</th>\n",
       "      <td>540.0</td>\n",
       "      <td>0.0</td>\n",
       "      <td>0.0</td>\n",
       "      <td>162.0</td>\n",
       "      <td>2.5</td>\n",
       "      <td>1040.0</td>\n",
       "      <td>676.0</td>\n",
       "      <td>28</td>\n",
       "      <td>79.99</td>\n",
       "    </tr>\n",
       "    <tr>\n",
       "      <th>1</th>\n",
       "      <td>540.0</td>\n",
       "      <td>0.0</td>\n",
       "      <td>0.0</td>\n",
       "      <td>162.0</td>\n",
       "      <td>2.5</td>\n",
       "      <td>1055.0</td>\n",
       "      <td>676.0</td>\n",
       "      <td>28</td>\n",
       "      <td>61.89</td>\n",
       "    </tr>\n",
       "    <tr>\n",
       "      <th>2</th>\n",
       "      <td>332.5</td>\n",
       "      <td>142.5</td>\n",
       "      <td>0.0</td>\n",
       "      <td>228.0</td>\n",
       "      <td>0.0</td>\n",
       "      <td>932.0</td>\n",
       "      <td>594.0</td>\n",
       "      <td>270</td>\n",
       "      <td>40.27</td>\n",
       "    </tr>\n",
       "    <tr>\n",
       "      <th>3</th>\n",
       "      <td>332.5</td>\n",
       "      <td>142.5</td>\n",
       "      <td>0.0</td>\n",
       "      <td>228.0</td>\n",
       "      <td>0.0</td>\n",
       "      <td>932.0</td>\n",
       "      <td>594.0</td>\n",
       "      <td>365</td>\n",
       "      <td>41.05</td>\n",
       "    </tr>\n",
       "    <tr>\n",
       "      <th>4</th>\n",
       "      <td>198.6</td>\n",
       "      <td>132.4</td>\n",
       "      <td>0.0</td>\n",
       "      <td>192.0</td>\n",
       "      <td>0.0</td>\n",
       "      <td>978.4</td>\n",
       "      <td>825.5</td>\n",
       "      <td>360</td>\n",
       "      <td>44.30</td>\n",
       "    </tr>\n",
       "  </tbody>\n",
       "</table>\n",
       "</div>"
      ],
      "text/plain": [
       "   cement  blast_furnace_slag  fly_ash  water  superplasticizer  \\\n",
       "0   540.0                 0.0      0.0  162.0               2.5   \n",
       "1   540.0                 0.0      0.0  162.0               2.5   \n",
       "2   332.5               142.5      0.0  228.0               0.0   \n",
       "3   332.5               142.5      0.0  228.0               0.0   \n",
       "4   198.6               132.4      0.0  192.0               0.0   \n",
       "\n",
       "   coarse_aggregate  fine_aggregate   age  concrete_compressive_strength  \n",
       "0            1040.0            676.0   28                          79.99  \n",
       "1            1055.0            676.0   28                          61.89  \n",
       "2             932.0            594.0  270                          40.27  \n",
       "3             932.0            594.0  365                          41.05  \n",
       "4             978.4            825.5  360                          44.30  "
      ]
     },
     "execution_count": 1,
     "metadata": {},
     "output_type": "execute_result"
    }
   ],
   "source": [
    "import numpy as np\n",
    "import pandas as pd\n",
    "df=pd.read_csv('E:\\\\machine learning\\\\concrete_data.csv')\n",
    "df.head()"
   ]
  },
  {
   "cell_type": "code",
   "execution_count": 2,
   "id": "76138a43",
   "metadata": {},
   "outputs": [
    {
     "name": "stdout",
     "output_type": "stream",
     "text": [
      "<class 'pandas.core.frame.DataFrame'>\n",
      "RangeIndex: 1030 entries, 0 to 1029\n",
      "Data columns (total 9 columns):\n",
      " #   Column                         Non-Null Count  Dtype  \n",
      "---  ------                         --------------  -----  \n",
      " 0   cement                         1030 non-null   float64\n",
      " 1   blast_furnace_slag             1030 non-null   float64\n",
      " 2   fly_ash                        1030 non-null   float64\n",
      " 3   water                          1030 non-null   float64\n",
      " 4   superplasticizer               1030 non-null   float64\n",
      " 5   coarse_aggregate               1030 non-null   float64\n",
      " 6   fine_aggregate                 1030 non-null   float64\n",
      " 7   age                            1030 non-null   int64  \n",
      " 8   concrete_compressive_strength  1030 non-null   float64\n",
      "dtypes: float64(8), int64(1)\n",
      "memory usage: 72.5 KB\n"
     ]
    }
   ],
   "source": [
    "df.info()"
   ]
  },
  {
   "cell_type": "code",
   "execution_count": 3,
   "id": "7aa5e14d",
   "metadata": {},
   "outputs": [
    {
     "data": {
      "text/plain": [
       "77.3"
      ]
     },
     "execution_count": 3,
     "metadata": {},
     "output_type": "execute_result"
    }
   ],
   "source": [
    "max_thresold = df['concrete_compressive_strength'].quantile(0.99)\n",
    "max_thresold"
   ]
  },
  {
   "cell_type": "code",
   "execution_count": 4,
   "id": "1bc06da4",
   "metadata": {},
   "outputs": [
    {
     "data": {
      "text/html": [
       "<div>\n",
       "<style scoped>\n",
       "    .dataframe tbody tr th:only-of-type {\n",
       "        vertical-align: middle;\n",
       "    }\n",
       "\n",
       "    .dataframe tbody tr th {\n",
       "        vertical-align: top;\n",
       "    }\n",
       "\n",
       "    .dataframe thead th {\n",
       "        text-align: right;\n",
       "    }\n",
       "</style>\n",
       "<table border=\"1\" class=\"dataframe\">\n",
       "  <thead>\n",
       "    <tr style=\"text-align: right;\">\n",
       "      <th></th>\n",
       "      <th>cement</th>\n",
       "      <th>blast_furnace_slag</th>\n",
       "      <th>fly_ash</th>\n",
       "      <th>water</th>\n",
       "      <th>superplasticizer</th>\n",
       "      <th>coarse_aggregate</th>\n",
       "      <th>fine_aggregate</th>\n",
       "      <th>age</th>\n",
       "      <th>concrete_compressive_strength</th>\n",
       "    </tr>\n",
       "  </thead>\n",
       "  <tbody>\n",
       "    <tr>\n",
       "      <th>0</th>\n",
       "      <td>540.0</td>\n",
       "      <td>0.0</td>\n",
       "      <td>0.0</td>\n",
       "      <td>162.0</td>\n",
       "      <td>2.5</td>\n",
       "      <td>1040.0</td>\n",
       "      <td>676.0</td>\n",
       "      <td>28</td>\n",
       "      <td>79.99</td>\n",
       "    </tr>\n",
       "    <tr>\n",
       "      <th>153</th>\n",
       "      <td>323.7</td>\n",
       "      <td>282.8</td>\n",
       "      <td>0.0</td>\n",
       "      <td>183.8</td>\n",
       "      <td>10.3</td>\n",
       "      <td>942.7</td>\n",
       "      <td>659.9</td>\n",
       "      <td>56</td>\n",
       "      <td>80.20</td>\n",
       "    </tr>\n",
       "    <tr>\n",
       "      <th>159</th>\n",
       "      <td>389.9</td>\n",
       "      <td>189.0</td>\n",
       "      <td>0.0</td>\n",
       "      <td>145.9</td>\n",
       "      <td>22.0</td>\n",
       "      <td>944.7</td>\n",
       "      <td>755.8</td>\n",
       "      <td>56</td>\n",
       "      <td>79.40</td>\n",
       "    </tr>\n",
       "    <tr>\n",
       "      <th>175</th>\n",
       "      <td>362.6</td>\n",
       "      <td>189.0</td>\n",
       "      <td>0.0</td>\n",
       "      <td>164.9</td>\n",
       "      <td>11.6</td>\n",
       "      <td>944.7</td>\n",
       "      <td>755.8</td>\n",
       "      <td>91</td>\n",
       "      <td>79.30</td>\n",
       "    </tr>\n",
       "    <tr>\n",
       "      <th>177</th>\n",
       "      <td>362.6</td>\n",
       "      <td>189.0</td>\n",
       "      <td>0.0</td>\n",
       "      <td>164.9</td>\n",
       "      <td>11.6</td>\n",
       "      <td>944.7</td>\n",
       "      <td>755.8</td>\n",
       "      <td>91</td>\n",
       "      <td>79.30</td>\n",
       "    </tr>\n",
       "    <tr>\n",
       "      <th>179</th>\n",
       "      <td>362.6</td>\n",
       "      <td>189.0</td>\n",
       "      <td>0.0</td>\n",
       "      <td>164.9</td>\n",
       "      <td>11.6</td>\n",
       "      <td>944.7</td>\n",
       "      <td>755.8</td>\n",
       "      <td>91</td>\n",
       "      <td>79.30</td>\n",
       "    </tr>\n",
       "    <tr>\n",
       "      <th>181</th>\n",
       "      <td>389.9</td>\n",
       "      <td>189.0</td>\n",
       "      <td>0.0</td>\n",
       "      <td>145.9</td>\n",
       "      <td>22.0</td>\n",
       "      <td>944.7</td>\n",
       "      <td>755.8</td>\n",
       "      <td>91</td>\n",
       "      <td>82.60</td>\n",
       "    </tr>\n",
       "    <tr>\n",
       "      <th>182</th>\n",
       "      <td>362.6</td>\n",
       "      <td>189.0</td>\n",
       "      <td>0.0</td>\n",
       "      <td>164.9</td>\n",
       "      <td>11.6</td>\n",
       "      <td>944.7</td>\n",
       "      <td>755.8</td>\n",
       "      <td>91</td>\n",
       "      <td>79.30</td>\n",
       "    </tr>\n",
       "    <tr>\n",
       "      <th>381</th>\n",
       "      <td>315.0</td>\n",
       "      <td>137.0</td>\n",
       "      <td>0.0</td>\n",
       "      <td>145.0</td>\n",
       "      <td>5.9</td>\n",
       "      <td>1130.0</td>\n",
       "      <td>745.0</td>\n",
       "      <td>28</td>\n",
       "      <td>81.75</td>\n",
       "    </tr>\n",
       "    <tr>\n",
       "      <th>383</th>\n",
       "      <td>451.0</td>\n",
       "      <td>0.0</td>\n",
       "      <td>0.0</td>\n",
       "      <td>165.0</td>\n",
       "      <td>11.3</td>\n",
       "      <td>1030.0</td>\n",
       "      <td>745.0</td>\n",
       "      <td>28</td>\n",
       "      <td>78.80</td>\n",
       "    </tr>\n",
       "  </tbody>\n",
       "</table>\n",
       "</div>"
      ],
      "text/plain": [
       "     cement  blast_furnace_slag  fly_ash  water  superplasticizer  \\\n",
       "0     540.0                 0.0      0.0  162.0               2.5   \n",
       "153   323.7               282.8      0.0  183.8              10.3   \n",
       "159   389.9               189.0      0.0  145.9              22.0   \n",
       "175   362.6               189.0      0.0  164.9              11.6   \n",
       "177   362.6               189.0      0.0  164.9              11.6   \n",
       "179   362.6               189.0      0.0  164.9              11.6   \n",
       "181   389.9               189.0      0.0  145.9              22.0   \n",
       "182   362.6               189.0      0.0  164.9              11.6   \n",
       "381   315.0               137.0      0.0  145.0               5.9   \n",
       "383   451.0                 0.0      0.0  165.0              11.3   \n",
       "\n",
       "     coarse_aggregate  fine_aggregate   age  concrete_compressive_strength  \n",
       "0              1040.0            676.0   28                          79.99  \n",
       "153             942.7            659.9   56                          80.20  \n",
       "159             944.7            755.8   56                          79.40  \n",
       "175             944.7            755.8   91                          79.30  \n",
       "177             944.7            755.8   91                          79.30  \n",
       "179             944.7            755.8   91                          79.30  \n",
       "181             944.7            755.8   91                          82.60  \n",
       "182             944.7            755.8   91                          79.30  \n",
       "381            1130.0            745.0   28                          81.75  \n",
       "383            1030.0            745.0   28                          78.80  "
      ]
     },
     "execution_count": 4,
     "metadata": {},
     "output_type": "execute_result"
    }
   ],
   "source": [
    "df[df['concrete_compressive_strength']>max_thresold]"
   ]
  },
  {
   "cell_type": "code",
   "execution_count": 5,
   "id": "fb52d5f7",
   "metadata": {},
   "outputs": [
    {
     "data": {
      "text/plain": [
       "6.8858"
      ]
     },
     "execution_count": 5,
     "metadata": {},
     "output_type": "execute_result"
    }
   ],
   "source": [
    "min_thresold = df['concrete_compressive_strength'].quantile(0.01)\n",
    "min_thresold"
   ]
  },
  {
   "cell_type": "code",
   "execution_count": 6,
   "id": "1f891dba",
   "metadata": {},
   "outputs": [
    {
     "data": {
      "text/html": [
       "<div>\n",
       "<style scoped>\n",
       "    .dataframe tbody tr th:only-of-type {\n",
       "        vertical-align: middle;\n",
       "    }\n",
       "\n",
       "    .dataframe tbody tr th {\n",
       "        vertical-align: top;\n",
       "    }\n",
       "\n",
       "    .dataframe thead th {\n",
       "        text-align: right;\n",
       "    }\n",
       "</style>\n",
       "<table border=\"1\" class=\"dataframe\">\n",
       "  <thead>\n",
       "    <tr style=\"text-align: right;\">\n",
       "      <th></th>\n",
       "      <th>cement</th>\n",
       "      <th>blast_furnace_slag</th>\n",
       "      <th>fly_ash</th>\n",
       "      <th>water</th>\n",
       "      <th>superplasticizer</th>\n",
       "      <th>coarse_aggregate</th>\n",
       "      <th>fine_aggregate</th>\n",
       "      <th>age</th>\n",
       "      <th>concrete_compressive_strength</th>\n",
       "    </tr>\n",
       "  </thead>\n",
       "  <tbody>\n",
       "    <tr>\n",
       "      <th>605</th>\n",
       "      <td>236.0</td>\n",
       "      <td>0.0</td>\n",
       "      <td>0.0</td>\n",
       "      <td>194.0</td>\n",
       "      <td>0.0</td>\n",
       "      <td>968.0</td>\n",
       "      <td>885.0</td>\n",
       "      <td>3</td>\n",
       "      <td>6.47</td>\n",
       "    </tr>\n",
       "    <tr>\n",
       "      <th>651</th>\n",
       "      <td>183.9</td>\n",
       "      <td>122.6</td>\n",
       "      <td>0.0</td>\n",
       "      <td>203.5</td>\n",
       "      <td>0.0</td>\n",
       "      <td>959.2</td>\n",
       "      <td>800.0</td>\n",
       "      <td>3</td>\n",
       "      <td>4.90</td>\n",
       "    </tr>\n",
       "    <tr>\n",
       "      <th>652</th>\n",
       "      <td>102.0</td>\n",
       "      <td>153.0</td>\n",
       "      <td>0.0</td>\n",
       "      <td>192.0</td>\n",
       "      <td>0.0</td>\n",
       "      <td>887.0</td>\n",
       "      <td>942.0</td>\n",
       "      <td>3</td>\n",
       "      <td>4.57</td>\n",
       "    </tr>\n",
       "    <tr>\n",
       "      <th>668</th>\n",
       "      <td>153.0</td>\n",
       "      <td>102.0</td>\n",
       "      <td>0.0</td>\n",
       "      <td>192.0</td>\n",
       "      <td>0.0</td>\n",
       "      <td>888.0</td>\n",
       "      <td>943.1</td>\n",
       "      <td>3</td>\n",
       "      <td>4.78</td>\n",
       "    </tr>\n",
       "    <tr>\n",
       "      <th>688</th>\n",
       "      <td>108.3</td>\n",
       "      <td>162.4</td>\n",
       "      <td>0.0</td>\n",
       "      <td>203.5</td>\n",
       "      <td>0.0</td>\n",
       "      <td>938.2</td>\n",
       "      <td>849.0</td>\n",
       "      <td>3</td>\n",
       "      <td>2.33</td>\n",
       "    </tr>\n",
       "    <tr>\n",
       "      <th>691</th>\n",
       "      <td>212.0</td>\n",
       "      <td>141.3</td>\n",
       "      <td>0.0</td>\n",
       "      <td>203.5</td>\n",
       "      <td>0.0</td>\n",
       "      <td>973.4</td>\n",
       "      <td>750.0</td>\n",
       "      <td>3</td>\n",
       "      <td>6.81</td>\n",
       "    </tr>\n",
       "    <tr>\n",
       "      <th>700</th>\n",
       "      <td>133.0</td>\n",
       "      <td>200.0</td>\n",
       "      <td>0.0</td>\n",
       "      <td>192.0</td>\n",
       "      <td>0.0</td>\n",
       "      <td>927.4</td>\n",
       "      <td>839.2</td>\n",
       "      <td>3</td>\n",
       "      <td>6.88</td>\n",
       "    </tr>\n",
       "    <tr>\n",
       "      <th>705</th>\n",
       "      <td>122.6</td>\n",
       "      <td>183.9</td>\n",
       "      <td>0.0</td>\n",
       "      <td>203.5</td>\n",
       "      <td>0.0</td>\n",
       "      <td>958.2</td>\n",
       "      <td>800.1</td>\n",
       "      <td>3</td>\n",
       "      <td>3.32</td>\n",
       "    </tr>\n",
       "    <tr>\n",
       "      <th>708</th>\n",
       "      <td>116.0</td>\n",
       "      <td>173.0</td>\n",
       "      <td>0.0</td>\n",
       "      <td>192.0</td>\n",
       "      <td>0.0</td>\n",
       "      <td>909.8</td>\n",
       "      <td>891.9</td>\n",
       "      <td>3</td>\n",
       "      <td>6.28</td>\n",
       "    </tr>\n",
       "    <tr>\n",
       "      <th>717</th>\n",
       "      <td>141.3</td>\n",
       "      <td>212.0</td>\n",
       "      <td>0.0</td>\n",
       "      <td>203.5</td>\n",
       "      <td>0.0</td>\n",
       "      <td>971.8</td>\n",
       "      <td>748.5</td>\n",
       "      <td>3</td>\n",
       "      <td>4.83</td>\n",
       "    </tr>\n",
       "    <tr>\n",
       "      <th>763</th>\n",
       "      <td>385.0</td>\n",
       "      <td>0.0</td>\n",
       "      <td>0.0</td>\n",
       "      <td>186.0</td>\n",
       "      <td>0.0</td>\n",
       "      <td>966.0</td>\n",
       "      <td>763.0</td>\n",
       "      <td>1</td>\n",
       "      <td>6.27</td>\n",
       "    </tr>\n",
       "  </tbody>\n",
       "</table>\n",
       "</div>"
      ],
      "text/plain": [
       "     cement  blast_furnace_slag  fly_ash  water  superplasticizer  \\\n",
       "605   236.0                 0.0      0.0  194.0               0.0   \n",
       "651   183.9               122.6      0.0  203.5               0.0   \n",
       "652   102.0               153.0      0.0  192.0               0.0   \n",
       "668   153.0               102.0      0.0  192.0               0.0   \n",
       "688   108.3               162.4      0.0  203.5               0.0   \n",
       "691   212.0               141.3      0.0  203.5               0.0   \n",
       "700   133.0               200.0      0.0  192.0               0.0   \n",
       "705   122.6               183.9      0.0  203.5               0.0   \n",
       "708   116.0               173.0      0.0  192.0               0.0   \n",
       "717   141.3               212.0      0.0  203.5               0.0   \n",
       "763   385.0                 0.0      0.0  186.0               0.0   \n",
       "\n",
       "     coarse_aggregate  fine_aggregate   age  concrete_compressive_strength  \n",
       "605             968.0            885.0    3                           6.47  \n",
       "651             959.2            800.0    3                           4.90  \n",
       "652             887.0            942.0    3                           4.57  \n",
       "668             888.0            943.1    3                           4.78  \n",
       "688             938.2            849.0    3                           2.33  \n",
       "691             973.4            750.0    3                           6.81  \n",
       "700             927.4            839.2    3                           6.88  \n",
       "705             958.2            800.1    3                           3.32  \n",
       "708             909.8            891.9    3                           6.28  \n",
       "717             971.8            748.5    3                           4.83  \n",
       "763             966.0            763.0    1                           6.27  "
      ]
     },
     "execution_count": 6,
     "metadata": {},
     "output_type": "execute_result"
    }
   ],
   "source": [
    "df[df['concrete_compressive_strength']<min_thresold]"
   ]
  },
  {
   "cell_type": "code",
   "execution_count": 7,
   "id": "442ed397",
   "metadata": {},
   "outputs": [],
   "source": [
    "df1=df[(df['concrete_compressive_strength']<max_thresold) & (df['concrete_compressive_strength']>min_thresold)]"
   ]
  },
  {
   "cell_type": "code",
   "execution_count": 8,
   "id": "36b03dfd",
   "metadata": {},
   "outputs": [
    {
     "data": {
      "text/plain": [
       "(1005, 9)"
      ]
     },
     "execution_count": 8,
     "metadata": {},
     "output_type": "execute_result"
    }
   ],
   "source": [
    "df1.shape"
   ]
  },
  {
   "cell_type": "code",
   "execution_count": 9,
   "id": "eb630c74",
   "metadata": {},
   "outputs": [
    {
     "data": {
      "text/plain": [
       "cement                           0\n",
       "blast_furnace_slag               0\n",
       "fly_ash                          0\n",
       "water                            0\n",
       "superplasticizer                 0\n",
       "coarse_aggregate                 0\n",
       "fine_aggregate                   0\n",
       "age                              0\n",
       "concrete_compressive_strength    0\n",
       "dtype: int64"
      ]
     },
     "execution_count": 9,
     "metadata": {},
     "output_type": "execute_result"
    }
   ],
   "source": [
    "df1.isnull().sum()"
   ]
  },
  {
   "cell_type": "code",
   "execution_count": 10,
   "id": "12b17e5f",
   "metadata": {},
   "outputs": [],
   "source": [
    "X=df1.drop('concrete_compressive_strength',axis=1)\n",
    "y=df1['concrete_compressive_strength']"
   ]
  },
  {
   "cell_type": "code",
   "execution_count": 11,
   "id": "ba5caa25",
   "metadata": {},
   "outputs": [],
   "source": [
    "from sklearn.model_selection import train_test_split\n",
    "X_train, X_test, Y_train, Y_test = train_test_split(X, y, test_size = 0.2,random_state=23)"
   ]
  },
  {
   "cell_type": "code",
   "execution_count": 12,
   "id": "0b547cbf",
   "metadata": {},
   "outputs": [],
   "source": [
    "from sklearn.preprocessing import MinMaxScaler\n",
    "scaler = MinMaxScaler()\n",
    "sc=scaler.fit(X_train)\n",
    "X_train=sc.transform(X_train)\n",
    "X_test=sc.transform(X_test)"
   ]
  },
  {
   "cell_type": "code",
   "execution_count": 13,
   "id": "d044141c",
   "metadata": {},
   "outputs": [],
   "source": [
    "from sklearn.ensemble import RandomForestRegressor\n",
    "rf = RandomForestRegressor(random_state=0)"
   ]
  },
  {
   "cell_type": "code",
   "execution_count": 14,
   "id": "a3480a1d",
   "metadata": {},
   "outputs": [
    {
     "name": "stdout",
     "output_type": "stream",
     "text": [
      "0.9806899682134392\n",
      "0.9404909850111919\n"
     ]
    }
   ],
   "source": [
    "rf.fit(X_train,Y_train)\n",
    "print(rf.score(X_train,Y_train))\n",
    "print(rf.score(X_test,Y_test))"
   ]
  },
  {
   "cell_type": "code",
   "execution_count": 163,
   "id": "04685199",
   "metadata": {},
   "outputs": [],
   "source": [
    "y_pred=rf.predict(X_test)"
   ]
  },
  {
   "cell_type": "code",
   "execution_count": 165,
   "id": "12de1f04",
   "metadata": {},
   "outputs": [
    {
     "data": {
      "text/plain": [
       "16.60902097672714"
      ]
     },
     "execution_count": 165,
     "metadata": {},
     "output_type": "execute_result"
    }
   ],
   "source": [
    "from sklearn.metrics import mean_squared_error\n",
    "mean_squared_error(Y_test, y_pred)"
   ]
  },
  {
   "cell_type": "markdown",
   "id": "c2516e8f",
   "metadata": {},
   "source": [
    "# Hyperparameter tunning"
   ]
  },
  {
   "cell_type": "code",
   "execution_count": 166,
   "id": "cd7a7ffd",
   "metadata": {},
   "outputs": [],
   "source": [
    "param_grid = {  'bootstrap': [True], 'max_depth': [5, 10, None], 'max_features': ['auto', 'sqrt'], 'n_estimators': [100, 300]}"
   ]
  },
  {
   "cell_type": "code",
   "execution_count": 167,
   "id": "e8217ac6",
   "metadata": {},
   "outputs": [],
   "source": [
    "from sklearn.model_selection import GridSearchCV\n",
    "rf_Grid = GridSearchCV(estimator = rf, param_grid = param_grid, \n",
    "\n",
    "                          cv = 5, n_jobs = 1, verbose = 0, return_train_score=True)"
   ]
  },
  {
   "cell_type": "code",
   "execution_count": 168,
   "id": "5f6148ec",
   "metadata": {},
   "outputs": [
    {
     "data": {
      "text/plain": [
       "GridSearchCV(cv=5, estimator=RandomForestRegressor(random_state=0), n_jobs=1,\n",
       "             param_grid={'bootstrap': [True], 'max_depth': [5, 10, None],\n",
       "                         'max_features': ['auto', 'sqrt'],\n",
       "                         'n_estimators': [100, 300]},\n",
       "             return_train_score=True)"
      ]
     },
     "execution_count": 168,
     "metadata": {},
     "output_type": "execute_result"
    }
   ],
   "source": [
    "rf_Grid.fit(X_train, Y_train)"
   ]
  },
  {
   "cell_type": "code",
   "execution_count": 170,
   "id": "f8766083",
   "metadata": {},
   "outputs": [
    {
     "data": {
      "text/plain": [
       "{'bootstrap': True,\n",
       " 'max_depth': None,\n",
       " 'max_features': 'auto',\n",
       " 'n_estimators': 300}"
      ]
     },
     "execution_count": 170,
     "metadata": {},
     "output_type": "execute_result"
    }
   ],
   "source": [
    "rf_Grid.best_params_"
   ]
  },
  {
   "cell_type": "code",
   "execution_count": 171,
   "id": "c77b9850",
   "metadata": {},
   "outputs": [
    {
     "name": "stdout",
     "output_type": "stream",
     "text": [
      "Train Accuracy - : 0.9817\n",
      "Test Accuracy - : 0.9403\n"
     ]
    }
   ],
   "source": [
    "print (f'Train Accuracy - : {rf_Grid.score(X_train,Y_train):.4f}')\n",
    "print (f'Test Accuracy - : {rf_Grid.score(X_test,Y_test):.4f}')"
   ]
  },
  {
   "cell_type": "code",
   "execution_count": 172,
   "id": "b74ea675",
   "metadata": {},
   "outputs": [
    {
     "data": {
      "text/plain": [
       "16.658731953756885"
      ]
     },
     "execution_count": 172,
     "metadata": {},
     "output_type": "execute_result"
    }
   ],
   "source": [
    "ygrid_pred=rf_Grid.predict(X_test)\n",
    "from sklearn.metrics import mean_squared_error\n",
    "mean_squared_error(Y_test, ygrid_pred)"
   ]
  },
  {
   "cell_type": "code",
   "execution_count": 173,
   "id": "71dbe511",
   "metadata": {},
   "outputs": [],
   "source": [
    "import pickle\n",
    " \n",
    "pickle.dump(rf_Grid, open('rf_cement_strength.pickle', 'wb'))"
   ]
  },
  {
   "cell_type": "code",
   "execution_count": 174,
   "id": "66f37260",
   "metadata": {},
   "outputs": [
    {
     "data": {
      "text/plain": [
       "XGBRegressor(base_score=0.5, booster='gbtree', callbacks=None,\n",
       "             colsample_bylevel=1, colsample_bynode=1, colsample_bytree=1,\n",
       "             early_stopping_rounds=None, enable_categorical=False,\n",
       "             eval_metric=None, gamma=0, gpu_id=-1, grow_policy='depthwise',\n",
       "             importance_type=None, interaction_constraints='',\n",
       "             learning_rate=0.300000012, max_bin=256, max_cat_to_onehot=4,\n",
       "             max_delta_step=0, max_depth=6, max_leaves=0, min_child_weight=1,\n",
       "             missing=nan, monotone_constraints='()', n_estimators=100, n_jobs=0,\n",
       "             num_parallel_tree=1, predictor='auto', random_state=0, reg_alpha=0,\n",
       "             reg_lambda=1, ...)"
      ]
     },
     "execution_count": 174,
     "metadata": {},
     "output_type": "execute_result"
    }
   ],
   "source": [
    "from xgboost import XGBRegressor\n",
    "model = XGBRegressor()\n",
    "model.fit(X_train,Y_train)"
   ]
  },
  {
   "cell_type": "code",
   "execution_count": 175,
   "id": "39257498",
   "metadata": {},
   "outputs": [
    {
     "data": {
      "text/plain": [
       "0.9933841369838686"
      ]
     },
     "execution_count": 175,
     "metadata": {},
     "output_type": "execute_result"
    }
   ],
   "source": [
    "model.score(X_train,Y_train)"
   ]
  },
  {
   "cell_type": "code",
   "execution_count": 176,
   "id": "165988b3",
   "metadata": {},
   "outputs": [
    {
     "data": {
      "text/plain": [
       "0.9477494405822926"
      ]
     },
     "execution_count": 176,
     "metadata": {},
     "output_type": "execute_result"
    }
   ],
   "source": [
    "model.score(X_test,Y_test)"
   ]
  },
  {
   "cell_type": "code",
   "execution_count": 177,
   "id": "af72fde6",
   "metadata": {},
   "outputs": [
    {
     "data": {
      "text/plain": [
       "14.583179331360835"
      ]
     },
     "execution_count": 177,
     "metadata": {},
     "output_type": "execute_result"
    }
   ],
   "source": [
    "ym_pred=model.predict(X_test)\n",
    "from sklearn.metrics import mean_squared_error\n",
    "mean_squared_error(Y_test, ym_pred)"
   ]
  },
  {
   "cell_type": "code",
   "execution_count": 178,
   "id": "a048c469",
   "metadata": {},
   "outputs": [],
   "source": [
    "import pickle\n",
    " \n",
    "pickle.dump(model, open('xgboost_cement_strength.pickle', 'wb'))"
   ]
  },
  {
   "cell_type": "code",
   "execution_count": 68,
   "id": "98e69dac",
   "metadata": {},
   "outputs": [],
   "source": [
    "booster=['gbtree','gblinear']\n",
    "base_score=[0.25,0.5,0.75,1]\n",
    "n_estimators = [100, 500, 900, 1100, 1500]\n",
    "max_depth = [2, 3, 5, 10, 15]\n",
    "booster=['gbtree','gblinear']\n",
    "learning_rate=[0.05,0.1,0.15,0.20]\n",
    "min_child_weight=[1,2,3,4]\n",
    "\n",
    "# Define the grid of hyperparameters to search\n",
    "hyperparameter_grid = {\n",
    "    'n_estimators': n_estimators,\n",
    "    'max_depth':max_depth,\n",
    "    'learning_rate':learning_rate,\n",
    "    'min_child_weight':min_child_weight,\n",
    "    'booster':booster,\n",
    "    'base_score':base_score\n",
    "    }"
   ]
  },
  {
   "cell_type": "code",
   "execution_count": 69,
   "id": "784b2a71",
   "metadata": {},
   "outputs": [],
   "source": [
    "grid_cv = GridSearchCV(estimator=model,\n",
    "            param_grid=hyperparameter_grid,\n",
    "            cv=3,\n",
    "            scoring = 'neg_mean_absolute_error',n_jobs = -1,\n",
    "            verbose = 5, \n",
    "            return_train_score = True,\n",
    "            )"
   ]
  },
  {
   "cell_type": "code",
   "execution_count": 70,
   "id": "86ca9597",
   "metadata": {},
   "outputs": [
    {
     "name": "stdout",
     "output_type": "stream",
     "text": [
      "Fitting 3 folds for each of 3200 candidates, totalling 9600 fits\n"
     ]
    },
    {
     "data": {
      "text/plain": [
       "GridSearchCV(cv=3,\n",
       "             estimator=XGBRegressor(base_score=0.5, booster='gbtree',\n",
       "                                    callbacks=None, colsample_bylevel=1,\n",
       "                                    colsample_bynode=1, colsample_bytree=1,\n",
       "                                    early_stopping_rounds=None,\n",
       "                                    enable_categorical=False, eval_metric=None,\n",
       "                                    gamma=0, gpu_id=-1, grow_policy='depthwise',\n",
       "                                    importance_type=None,\n",
       "                                    interaction_constraints='',\n",
       "                                    learning_rate=0.300000012, max_bin=256,\n",
       "                                    max_cat...\n",
       "                                    n_jobs=0, num_parallel_tree=1,\n",
       "                                    predictor='auto', random_state=0,\n",
       "                                    reg_alpha=0, reg_lambda=1, ...),\n",
       "             n_jobs=-1,\n",
       "             param_grid={'base_score': [0.25, 0.5, 0.75, 1],\n",
       "                         'booster': ['gbtree', 'gblinear'],\n",
       "                         'learning_rate': [0.05, 0.1, 0.15, 0.2],\n",
       "                         'max_depth': [2, 3, 5, 10, 15],\n",
       "                         'min_child_weight': [1, 2, 3, 4],\n",
       "                         'n_estimators': [100, 500, 900, 1100, 1500]},\n",
       "             return_train_score=True, scoring='neg_mean_absolute_error',\n",
       "             verbose=5)"
      ]
     },
     "execution_count": 70,
     "metadata": {},
     "output_type": "execute_result"
    }
   ],
   "source": [
    "grid_cv.fit(X_train,Y_train)"
   ]
  },
  {
   "cell_type": "code",
   "execution_count": 71,
   "id": "994739ee",
   "metadata": {},
   "outputs": [
    {
     "data": {
      "text/plain": [
       "-0.3640971268834295"
      ]
     },
     "execution_count": 71,
     "metadata": {},
     "output_type": "execute_result"
    }
   ],
   "source": [
    "grid_cv.score(X_train,Y_train)"
   ]
  },
  {
   "cell_type": "code",
   "execution_count": 72,
   "id": "4a84c0e3",
   "metadata": {},
   "outputs": [
    {
     "data": {
      "text/plain": [
       "-2.2995283803632183"
      ]
     },
     "execution_count": 72,
     "metadata": {},
     "output_type": "execute_result"
    }
   ],
   "source": [
    "grid_cv.score(X_test,Y_test)"
   ]
  },
  {
   "cell_type": "code",
   "execution_count": 73,
   "id": "aeed7962",
   "metadata": {},
   "outputs": [],
   "source": [
    "y_p=grid_cv.predict(X_test)"
   ]
  },
  {
   "cell_type": "code",
   "execution_count": 74,
   "id": "47d6b18d",
   "metadata": {},
   "outputs": [
    {
     "data": {
      "text/plain": [
       "12.73093746395989"
      ]
     },
     "execution_count": 74,
     "metadata": {},
     "output_type": "execute_result"
    }
   ],
   "source": [
    "mean_squared_error(Y_test, y_p)"
   ]
  },
  {
   "cell_type": "code",
   "execution_count": 75,
   "id": "1f325ad7",
   "metadata": {},
   "outputs": [],
   "source": [
    "from sklearn.metrics import mean_absolute_error"
   ]
  },
  {
   "cell_type": "code",
   "execution_count": 76,
   "id": "b4cdbab3",
   "metadata": {},
   "outputs": [
    {
     "data": {
      "text/plain": [
       "2.2995283803632183"
      ]
     },
     "execution_count": 76,
     "metadata": {},
     "output_type": "execute_result"
    }
   ],
   "source": [
    "mean_absolute_error(Y_test, y_p)"
   ]
  },
  {
   "cell_type": "code",
   "execution_count": 77,
   "id": "b47d1b29",
   "metadata": {},
   "outputs": [
    {
     "data": {
      "text/plain": [
       "2.660118031450497"
      ]
     },
     "execution_count": 77,
     "metadata": {},
     "output_type": "execute_result"
    }
   ],
   "source": [
    "mean_absolute_error(Y_test, ym_pred)"
   ]
  },
  {
   "cell_type": "code",
   "execution_count": 78,
   "id": "03ddd26a",
   "metadata": {},
   "outputs": [
    {
     "data": {
      "text/plain": [
       "3.045320112647214"
      ]
     },
     "execution_count": 78,
     "metadata": {},
     "output_type": "execute_result"
    }
   ],
   "source": [
    "mean_absolute_error(Y_test, y_pred)"
   ]
  },
  {
   "cell_type": "code",
   "execution_count": 79,
   "id": "ace4172e",
   "metadata": {},
   "outputs": [],
   "source": [
    "import pickle\n",
    " \n",
    "pickle.dump(grid_cv, open('cement_strength.sav', 'wb'))"
   ]
  },
  {
   "cell_type": "code",
   "execution_count": 93,
   "id": "e40a6ed1",
   "metadata": {},
   "outputs": [
    {
     "name": "stdout",
     "output_type": "stream",
     "text": [
      "0.8929807194700293\n"
     ]
    }
   ],
   "source": [
    "filename='rf_cement_strength.sav'\n",
    "loaded_model = pickle.load(open(filename, 'rb'))\n",
    "result = loaded_model.score(X_test, Y_test)\n",
    "print(result)"
   ]
  },
  {
   "cell_type": "code",
   "execution_count": 94,
   "id": "d7626c3c",
   "metadata": {},
   "outputs": [],
   "source": [
    "y_pred_rf=loaded_model.predict(X_test)"
   ]
  },
  {
   "cell_type": "code",
   "execution_count": 96,
   "id": "83dbcbf8",
   "metadata": {},
   "outputs": [
    {
     "data": {
      "text/plain": [
       "array([38.06186667, 40.06506667, 31.08303333, 25.15983333, 51.49911111,\n",
       "       59.07025   , 47.0453    , 36.1763    , 33.68793333, 34.23492222,\n",
       "       30.41373333, 26.04243333, 53.90933254, 42.58853333, 28.03683333,\n",
       "       22.1672    , 54.81126667, 27.64408   , 43.77861841, 23.68233333,\n",
       "       34.23492222, 28.10973333, 50.71236667, 17.75846667, 18.77416667,\n",
       "       20.93693333, 36.29866667, 30.5008    , 30.0444    , 42.0006    ,\n",
       "       47.170675  , 50.9846    , 51.55038921, 39.3654746 , 22.23336667,\n",
       "       28.21693333, 40.82816667, 39.58723333, 31.068     , 25.21726667,\n",
       "       33.7332    , 15.50176667, 26.4356    , 38.4143    , 35.55183333,\n",
       "       44.87165   , 32.64341111, 31.57283333, 52.3847    , 32.76023333,\n",
       "       17.98483333, 33.61243333, 16.73526667, 50.94453333, 15.10423333,\n",
       "       40.30086667, 49.05923333, 17.45786667, 29.12203333, 33.53066667,\n",
       "       40.9409    , 21.78806667, 48.97173333, 36.79416667, 49.3563    ,\n",
       "       37.89863333, 31.12096667, 23.4298    , 39.0927    , 58.43718   ,\n",
       "       64.95153333, 31.87686667, 43.38576667, 40.2921    , 14.5082    ,\n",
       "       37.7858527 , 15.33236667, 17.83106667, 35.61583333, 31.0199    ,\n",
       "       21.18263333, 58.7843    , 54.98171111, 37.67543333, 32.55503333,\n",
       "       30.0374    , 14.6208    , 43.95713333, 54.36873889, 52.21553333,\n",
       "       27.69056667, 57.85122333, 18.66926667, 20.62133333, 41.9778    ,\n",
       "       38.7855    , 41.03553333, 42.25536667, 34.22986667, 16.13423333,\n",
       "       64.95153333, 41.349     , 25.52366667, 44.41656667, 30.4626    ,\n",
       "       11.8648    , 13.30536667, 28.0063    , 24.96623333, 16.78006667,\n",
       "       48.7835    , 39.2394    , 39.16603333, 34.34536667, 14.01243333,\n",
       "       48.59350278, 17.3194    , 35.0672    , 13.83256667, 31.84690889,\n",
       "       20.0621    , 24.17746222, 32.85966667, 30.4574    , 30.23753333,\n",
       "       20.1211    , 44.24319111, 28.17023556, 52.74393333, 34.5145    ,\n",
       "       32.10323333, 23.86076667, 27.40026667, 30.75716667, 30.70763333,\n",
       "       36.5323    , 30.72853333, 38.7784    , 21.21203333, 34.63233333,\n",
       "       44.76850556, 41.43403333, 52.84015556, 49.732     , 53.5036    ,\n",
       "       38.23683333, 45.22426667, 32.16156667, 22.6714    , 27.4668    ,\n",
       "       32.67343333, 15.20253333, 22.99276667, 42.73113333, 53.4135    ,\n",
       "       34.94473333, 38.10923333, 53.07154167, 32.11496667, 35.165     ,\n",
       "       36.2669    , 27.76341778, 53.40641127, 51.9235    , 39.07376667,\n",
       "       34.66826667, 39.59756381, 22.58983333, 37.31503333, 32.94786667,\n",
       "       34.5592    , 31.80343333, 35.98423333, 33.8508    , 37.019     ,\n",
       "       33.42956667, 26.0224    , 28.2959    , 32.85616667, 24.59236667,\n",
       "       39.27513333, 28.5183    , 34.60812222, 36.7397    , 24.24143333,\n",
       "       44.34675571])"
      ]
     },
     "execution_count": 96,
     "metadata": {},
     "output_type": "execute_result"
    }
   ],
   "source": [
    "y_pred_rf"
   ]
  },
  {
   "cell_type": "code",
   "execution_count": 97,
   "id": "49543453",
   "metadata": {},
   "outputs": [],
   "source": [
    "yrf = pd.DataFrame(y_pred_rf, columns = ['Yrf_pred'])"
   ]
  },
  {
   "cell_type": "code",
   "execution_count": 98,
   "id": "739aa646",
   "metadata": {},
   "outputs": [
    {
     "data": {
      "text/html": [
       "<div>\n",
       "<style scoped>\n",
       "    .dataframe tbody tr th:only-of-type {\n",
       "        vertical-align: middle;\n",
       "    }\n",
       "\n",
       "    .dataframe tbody tr th {\n",
       "        vertical-align: top;\n",
       "    }\n",
       "\n",
       "    .dataframe thead th {\n",
       "        text-align: right;\n",
       "    }\n",
       "</style>\n",
       "<table border=\"1\" class=\"dataframe\">\n",
       "  <thead>\n",
       "    <tr style=\"text-align: right;\">\n",
       "      <th></th>\n",
       "      <th>Yrf_pred</th>\n",
       "    </tr>\n",
       "  </thead>\n",
       "  <tbody>\n",
       "    <tr>\n",
       "      <th>0</th>\n",
       "      <td>38.061867</td>\n",
       "    </tr>\n",
       "    <tr>\n",
       "      <th>1</th>\n",
       "      <td>40.065067</td>\n",
       "    </tr>\n",
       "    <tr>\n",
       "      <th>2</th>\n",
       "      <td>31.083033</td>\n",
       "    </tr>\n",
       "    <tr>\n",
       "      <th>3</th>\n",
       "      <td>25.159833</td>\n",
       "    </tr>\n",
       "    <tr>\n",
       "      <th>4</th>\n",
       "      <td>51.499111</td>\n",
       "    </tr>\n",
       "    <tr>\n",
       "      <th>...</th>\n",
       "      <td>...</td>\n",
       "    </tr>\n",
       "    <tr>\n",
       "      <th>181</th>\n",
       "      <td>28.518300</td>\n",
       "    </tr>\n",
       "    <tr>\n",
       "      <th>182</th>\n",
       "      <td>34.608122</td>\n",
       "    </tr>\n",
       "    <tr>\n",
       "      <th>183</th>\n",
       "      <td>36.739700</td>\n",
       "    </tr>\n",
       "    <tr>\n",
       "      <th>184</th>\n",
       "      <td>24.241433</td>\n",
       "    </tr>\n",
       "    <tr>\n",
       "      <th>185</th>\n",
       "      <td>44.346756</td>\n",
       "    </tr>\n",
       "  </tbody>\n",
       "</table>\n",
       "<p>186 rows × 1 columns</p>\n",
       "</div>"
      ],
      "text/plain": [
       "      Yrf_pred\n",
       "0    38.061867\n",
       "1    40.065067\n",
       "2    31.083033\n",
       "3    25.159833\n",
       "4    51.499111\n",
       "..         ...\n",
       "181  28.518300\n",
       "182  34.608122\n",
       "183  36.739700\n",
       "184  24.241433\n",
       "185  44.346756\n",
       "\n",
       "[186 rows x 1 columns]"
      ]
     },
     "execution_count": 98,
     "metadata": {},
     "output_type": "execute_result"
    }
   ],
   "source": [
    "yrf"
   ]
  },
  {
   "cell_type": "code",
   "execution_count": 99,
   "id": "52a5315e",
   "metadata": {},
   "outputs": [
    {
     "data": {
      "text/plain": [
       "709    32.10\n",
       "253    42.35\n",
       "876    33.06\n",
       "250    24.92\n",
       "308    55.64\n",
       "       ...  \n",
       "192    27.66\n",
       "70     34.40\n",
       "833    36.35\n",
       "240    22.32\n",
       "112    56.10\n",
       "Name: concrete_compressive_strength, Length: 186, dtype: float64"
      ]
     },
     "execution_count": 99,
     "metadata": {},
     "output_type": "execute_result"
    }
   ],
   "source": [
    "Y_test"
   ]
  },
  {
   "cell_type": "code",
   "execution_count": 100,
   "id": "bf209f42",
   "metadata": {},
   "outputs": [
    {
     "data": {
      "text/plain": [
       "array([35.40937  , 42.82855  , 32.59916  , 25.66002  , 55.525616 ,\n",
       "       61.34235  , 45.18846  , 37.402374 , 32.489697 , 34.62793  ,\n",
       "       29.243063 , 32.112488 , 59.41135  , 45.870144 , 25.87166  ,\n",
       "       24.072811 , 53.60119  , 20.803171 , 46.804253 , 19.37577  ,\n",
       "       34.62793  , 29.336565 , 52.368626 , 17.758461 , 20.565918 ,\n",
       "       17.461163 , 37.60367  , 28.599901 , 30.585274 , 42.417397 ,\n",
       "       44.448616 , 53.775105 , 50.39655  , 39.11164  , 21.881023 ,\n",
       "       26.119398 , 41.825306 , 42.32814  , 34.42175  , 21.6002   ,\n",
       "       34.337704 , 15.489658 , 22.692686 , 40.932793 , 32.433563 ,\n",
       "       41.28112  , 26.869576 , 28.234463 , 53.763275 , 32.400265 ,\n",
       "       17.8907   , 30.368803 , 12.836578 , 52.3468   , 15.970646 ,\n",
       "       40.304592 , 51.90878  , 19.751234 , 25.844055 , 36.12921  ,\n",
       "       41.87212  , 18.838749 , 53.077343 , 37.34756  , 51.2055   ,\n",
       "       40.995953 , 31.632324 , 20.742987 , 43.01688  , 58.873943 ,\n",
       "       65.26892  , 31.563444 , 43.66501  , 41.314926 , 14.482777 ,\n",
       "       39.91239  , 14.760957 , 14.051962 , 35.201675 , 28.696692 ,\n",
       "       19.842638 , 63.029785 , 49.22272  , 35.57995  , 34.837074 ,\n",
       "       28.61165  , 13.680929 , 43.197285 , 53.298977 , 51.596474 ,\n",
       "       26.760927 , 56.23955  , 15.996828 , 16.221891 , 36.251976 ,\n",
       "       39.906696 , 36.000084 , 42.24604  , 32.86437  , 12.889499 ,\n",
       "       65.26892  , 40.81178  , 22.702545 , 46.89628  , 28.4612   ,\n",
       "       10.9805355,  9.909367 , 26.331139 , 22.624804 , 15.605755 ,\n",
       "       48.878147 , 40.635212 , 38.35054  , 38.81381  , 13.39329  ,\n",
       "       48.545925 , 18.754875 , 33.81634  , 17.049797 , 31.785994 ,\n",
       "       21.351748 , 29.111456 , 34.67382  , 29.761873 , 30.525911 ,\n",
       "       22.900759 , 50.26552  , 27.171394 , 52.956684 , 32.330612 ,\n",
       "       31.33831  , 23.418905 , 25.810177 , 30.428232 , 28.161503 ,\n",
       "       33.322346 , 27.091188 , 38.81088  , 20.272242 , 33.55623  ,\n",
       "       43.94845  , 44.7581   , 54.80895  , 50.19092  , 54.296597 ,\n",
       "       35.376987 , 45.342556 , 35.29781  , 25.74752  , 27.074957 ,\n",
       "       31.780895 , 13.502197 , 23.242271 , 43.735985 , 56.318752 ,\n",
       "       34.43076  , 39.665073 , 51.08714  , 26.628986 , 32.77838  ,\n",
       "       35.991882 , 31.701557 , 49.599545 , 51.80824  , 41.743546 ,\n",
       "       34.358887 , 38.794315 , 23.780096 , 38.04531  , 33.238194 ,\n",
       "       27.713732 , 29.7341   , 36.036083 , 35.192802 , 35.49083  ,\n",
       "       31.886618 , 22.934137 , 28.305471 , 34.845303 , 25.629734 ,\n",
       "       38.810604 , 28.638527 , 35.258904 , 33.715393 , 21.364185 ,\n",
       "       51.8632   ], dtype=float32)"
      ]
     },
     "execution_count": 100,
     "metadata": {},
     "output_type": "execute_result"
    }
   ],
   "source": [
    "y_p"
   ]
  },
  {
   "cell_type": "markdown",
   "id": "22c5b2f5",
   "metadata": {},
   "source": [
    "# outlier method2"
   ]
  },
  {
   "cell_type": "code",
   "execution_count": 81,
   "id": "00b88e8f",
   "metadata": {},
   "outputs": [
    {
     "data": {
      "text/html": [
       "<div>\n",
       "<style scoped>\n",
       "    .dataframe tbody tr th:only-of-type {\n",
       "        vertical-align: middle;\n",
       "    }\n",
       "\n",
       "    .dataframe tbody tr th {\n",
       "        vertical-align: top;\n",
       "    }\n",
       "\n",
       "    .dataframe thead th {\n",
       "        text-align: right;\n",
       "    }\n",
       "</style>\n",
       "<table border=\"1\" class=\"dataframe\">\n",
       "  <thead>\n",
       "    <tr style=\"text-align: right;\">\n",
       "      <th></th>\n",
       "      <th>cement</th>\n",
       "      <th>blast_furnace_slag</th>\n",
       "      <th>fly_ash</th>\n",
       "      <th>water</th>\n",
       "      <th>superplasticizer</th>\n",
       "      <th>coarse_aggregate</th>\n",
       "      <th>fine_aggregate</th>\n",
       "      <th>age</th>\n",
       "      <th>concrete_compressive_strength</th>\n",
       "    </tr>\n",
       "  </thead>\n",
       "  <tbody>\n",
       "    <tr>\n",
       "      <th>0</th>\n",
       "      <td>540.0</td>\n",
       "      <td>0.0</td>\n",
       "      <td>0.0</td>\n",
       "      <td>162.0</td>\n",
       "      <td>2.5</td>\n",
       "      <td>1040.0</td>\n",
       "      <td>676.0</td>\n",
       "      <td>28</td>\n",
       "      <td>79.99</td>\n",
       "    </tr>\n",
       "    <tr>\n",
       "      <th>1</th>\n",
       "      <td>540.0</td>\n",
       "      <td>0.0</td>\n",
       "      <td>0.0</td>\n",
       "      <td>162.0</td>\n",
       "      <td>2.5</td>\n",
       "      <td>1055.0</td>\n",
       "      <td>676.0</td>\n",
       "      <td>28</td>\n",
       "      <td>61.89</td>\n",
       "    </tr>\n",
       "    <tr>\n",
       "      <th>2</th>\n",
       "      <td>332.5</td>\n",
       "      <td>142.5</td>\n",
       "      <td>0.0</td>\n",
       "      <td>228.0</td>\n",
       "      <td>0.0</td>\n",
       "      <td>932.0</td>\n",
       "      <td>594.0</td>\n",
       "      <td>270</td>\n",
       "      <td>40.27</td>\n",
       "    </tr>\n",
       "    <tr>\n",
       "      <th>3</th>\n",
       "      <td>332.5</td>\n",
       "      <td>142.5</td>\n",
       "      <td>0.0</td>\n",
       "      <td>228.0</td>\n",
       "      <td>0.0</td>\n",
       "      <td>932.0</td>\n",
       "      <td>594.0</td>\n",
       "      <td>365</td>\n",
       "      <td>41.05</td>\n",
       "    </tr>\n",
       "    <tr>\n",
       "      <th>4</th>\n",
       "      <td>198.6</td>\n",
       "      <td>132.4</td>\n",
       "      <td>0.0</td>\n",
       "      <td>192.0</td>\n",
       "      <td>0.0</td>\n",
       "      <td>978.4</td>\n",
       "      <td>825.5</td>\n",
       "      <td>360</td>\n",
       "      <td>44.30</td>\n",
       "    </tr>\n",
       "  </tbody>\n",
       "</table>\n",
       "</div>"
      ],
      "text/plain": [
       "   cement  blast_furnace_slag  fly_ash  water  superplasticizer  \\\n",
       "0   540.0                 0.0      0.0  162.0               2.5   \n",
       "1   540.0                 0.0      0.0  162.0               2.5   \n",
       "2   332.5               142.5      0.0  228.0               0.0   \n",
       "3   332.5               142.5      0.0  228.0               0.0   \n",
       "4   198.6               132.4      0.0  192.0               0.0   \n",
       "\n",
       "   coarse_aggregate  fine_aggregate   age  concrete_compressive_strength  \n",
       "0            1040.0            676.0   28                          79.99  \n",
       "1            1055.0            676.0   28                          61.89  \n",
       "2             932.0            594.0  270                          40.27  \n",
       "3             932.0            594.0  365                          41.05  \n",
       "4             978.4            825.5  360                          44.30  "
      ]
     },
     "execution_count": 81,
     "metadata": {},
     "output_type": "execute_result"
    }
   ],
   "source": [
    "import numpy as np\n",
    "import pandas as pd\n",
    "df=pd.read_csv('E:\\\\machine learning\\\\concrete_data.csv')\n",
    "df.head()"
   ]
  },
  {
   "cell_type": "code",
   "execution_count": 116,
   "id": "2e28ab34",
   "metadata": {},
   "outputs": [
    {
     "data": {
      "text/plain": [
       "Index(['cement', 'blast_furnace_slag', 'fly_ash', 'water', 'superplasticizer',\n",
       "       'coarse_aggregate', 'fine_aggregate ', 'age',\n",
       "       'concrete_compressive_strength'],\n",
       "      dtype='object')"
      ]
     },
     "execution_count": 116,
     "metadata": {},
     "output_type": "execute_result"
    }
   ],
   "source": [
    "df.columns"
   ]
  },
  {
   "cell_type": "markdown",
   "id": "3d332248",
   "metadata": {},
   "source": [
    "# cement"
   ]
  },
  {
   "cell_type": "code",
   "execution_count": 82,
   "id": "be3ddead",
   "metadata": {},
   "outputs": [
    {
     "name": "stdout",
     "output_type": "stream",
     "text": [
      "1st Quartile (Q1) is:  192.375\n",
      "3rd Quartile (Q3) is:  350.0\n",
      "Interquartile range (IQR) is  157.625\n"
     ]
    }
   ],
   "source": [
    "from scipy import stats\n",
    "\n",
    "Q1=df['cement'].quantile(q=0.25)\n",
    "Q3=df['cement'].quantile(q=0.75)\n",
    "\n",
    "print('1st Quartile (Q1) is: ',Q1)\n",
    "print('3rd Quartile (Q3) is: ',Q3)\n",
    "print('Interquartile range (IQR) is ', stats.iqr(df['cement']))"
   ]
  },
  {
   "cell_type": "code",
   "execution_count": 83,
   "id": "81cb377b",
   "metadata": {},
   "outputs": [
    {
     "name": "stdout",
     "output_type": "stream",
     "text": [
      "Lower outlier limit in cement:  -44.0625\n",
      "Upper outlier limit in cement:  586.4375\n"
     ]
    }
   ],
   "source": [
    "L_outliers=Q1-1.5*(Q3-Q1)\n",
    "U_outliers=Q3+1.5*(Q3-Q1)\n",
    "print('Lower outlier limit in cement: ',L_outliers)\n",
    "print('Upper outlier limit in cement: ',U_outliers)"
   ]
  },
  {
   "cell_type": "code",
   "execution_count": 84,
   "id": "8e167d88",
   "metadata": {},
   "outputs": [
    {
     "name": "stdout",
     "output_type": "stream",
     "text": [
      "Number of outliers in cement upper:  0\n",
      "Number of outliers in cement lower:  0\n"
     ]
    }
   ],
   "source": [
    "print('Number of outliers in cement upper: ', df[df['cement']>586.4375]['cement'].count())\n",
    "print('Number of outliers in cement lower: ', df[df['cement']<-44.0625]['cement'].count())"
   ]
  },
  {
   "cell_type": "code",
   "execution_count": 85,
   "id": "b05444da",
   "metadata": {},
   "outputs": [
    {
     "data": {
      "text/plain": [
       "<AxesSubplot:xlabel='cement'>"
      ]
     },
     "execution_count": 85,
     "metadata": {},
     "output_type": "execute_result"
    },
    {
     "data": {
      "image/png": "[encoded data removed]",
      "text/plain": [
       "<Figure size 432x288 with 1 Axes>"
      ]
     },
     "metadata": {
      "needs_background": "light"
     },
     "output_type": "display_data"
    }
   ],
   "source": [
    "import seaborn as sns\n",
    "sns.boxplot(x='cement',data=df, orient='h')"
   ]
  },
  {
   "cell_type": "code",
   "execution_count": 86,
   "id": "fdf4dfad",
   "metadata": {},
   "outputs": [],
   "source": [
    "new_df_cap = df.copy()\n",
    "new_df_cap['cement'] = np.where(\n",
    "    new_df_cap['cement'] > U_outliers,\n",
    "    U_outliers,\n",
    "    np.where(\n",
    "        new_df_cap['cement'] < L_outliers,\n",
    "        L_outliers,\n",
    "        new_df_cap['cement']\n",
    "    )\n",
    ")"
   ]
  },
  {
   "cell_type": "code",
   "execution_count": 87,
   "id": "5712246a",
   "metadata": {},
   "outputs": [
    {
     "data": {
      "text/plain": [
       "<AxesSubplot:xlabel='cement'>"
      ]
     },
     "execution_count": 87,
     "metadata": {},
     "output_type": "execute_result"
    },
    {
     "data": {
      "image/png": "[encoded data removed]",
      "text/plain": [
       "<Figure size 432x288 with 1 Axes>"
      ]
     },
     "metadata": {
      "needs_background": "light"
     },
     "output_type": "display_data"
    }
   ],
   "source": [
    "sns.boxplot(x='cement',data=new_df_cap, orient='h')"
   ]
  },
  {
   "cell_type": "markdown",
   "id": "1da170b0",
   "metadata": {},
   "source": [
    "# Water"
   ]
  },
  {
   "cell_type": "code",
   "execution_count": 88,
   "id": "d1071f9b",
   "metadata": {},
   "outputs": [
    {
     "name": "stdout",
     "output_type": "stream",
     "text": [
      "1st Quartile (Q1) is:  164.9\n",
      "3rd Quartile (Q3) is:  192.0\n",
      "Interquartile range (IQR) is:  27.099999999999994\n"
     ]
    }
   ],
   "source": [
    "w_Q1=df['water'].quantile(q=0.25)\n",
    "w_Q3=df['water'].quantile(q=0.75)\n",
    "\n",
    "print('1st Quartile (Q1) is: ', w_Q1)\n",
    "print('3rd Quartile (Q3) is: ', w_Q3)\n",
    "print('Interquartile range (IQR) is: ', stats.iqr(df['water']))"
   ]
  },
  {
   "cell_type": "code",
   "execution_count": 89,
   "id": "737f919a",
   "metadata": {},
   "outputs": [
    {
     "name": "stdout",
     "output_type": "stream",
     "text": [
      "Lower outlier in water:  124.25000000000001\n",
      "Upper outlier in water:  232.64999999999998\n"
     ]
    }
   ],
   "source": [
    "WL_outliers=w_Q1-1.5*(w_Q3-w_Q1)\n",
    "WU_outliers=w_Q3+1.5*(w_Q3-w_Q1)\n",
    "\n",
    "print('Lower outlier in water: ',WL_outliers)\n",
    "print('Upper outlier in water: ',WU_outliers)"
   ]
  },
  {
   "cell_type": "code",
   "execution_count": 90,
   "id": "85100e2f",
   "metadata": {},
   "outputs": [
    {
     "name": "stdout",
     "output_type": "stream",
     "text": [
      "Number of outliers in water upper:  4\n",
      "Number of outliers in water lower:  5\n"
     ]
    }
   ],
   "source": [
    "print('Number of outliers in water upper: ', df[df['water']>232.64999999999998]['water'].count())\n",
    "print('Number of outliers in water lower: ', df[df['water']<124.25000000000001]['water'].count())\n"
   ]
  },
  {
   "cell_type": "code",
   "execution_count": 91,
   "id": "5b31c3f1",
   "metadata": {},
   "outputs": [
    {
     "data": {
      "text/plain": [
       "<AxesSubplot:xlabel='water'>"
      ]
     },
     "execution_count": 91,
     "metadata": {},
     "output_type": "execute_result"
    },
    {
     "data": {
      "image/png": "[encoded data removed]",
      "text/plain": [
       "<Figure size 432x288 with 1 Axes>"
      ]
     },
     "metadata": {
      "needs_background": "light"
     },
     "output_type": "display_data"
    }
   ],
   "source": [
    "sns.boxplot(x='water', data=df, orient='h')"
   ]
  },
  {
   "cell_type": "code",
   "execution_count": 92,
   "id": "265c1eb5",
   "metadata": {},
   "outputs": [],
   "source": [
    "\n",
    "new_df_cap['water'] = np.where(\n",
    "    new_df_cap['water'] > WU_outliers,\n",
    "    WU_outliers,\n",
    "    np.where(\n",
    "        new_df_cap['water'] < WL_outliers,\n",
    "        WL_outliers,\n",
    "        new_df_cap['water']\n",
    "    )\n",
    ")"
   ]
  },
  {
   "cell_type": "code",
   "execution_count": 93,
   "id": "2c517ce3",
   "metadata": {},
   "outputs": [
    {
     "data": {
      "text/plain": [
       "<AxesSubplot:xlabel='water'>"
      ]
     },
     "execution_count": 93,
     "metadata": {},
     "output_type": "execute_result"
    },
    {
     "data": {
      "image/png": "[encoded data removed]",
      "text/plain": [
       "<Figure size 432x288 with 1 Axes>"
      ]
     },
     "metadata": {
      "needs_background": "light"
     },
     "output_type": "display_data"
    }
   ],
   "source": [
    "# sns.boxplot(x='water', data=df, orient='h')\n",
    "sns.boxplot(x='water', data=new_df_cap, orient='h')"
   ]
  },
  {
   "cell_type": "markdown",
   "id": "92b7a34d",
   "metadata": {},
   "source": [
    "# blast_furnace_slag"
   ]
  },
  {
   "cell_type": "code",
   "execution_count": 94,
   "id": "5cdcf49e",
   "metadata": {},
   "outputs": [
    {
     "name": "stdout",
     "output_type": "stream",
     "text": [
      "Lower outlier in water:  -214.42499999999998\n",
      "Upper outlier in water:  357.375\n"
     ]
    }
   ],
   "source": [
    "Q1=df['blast_furnace_slag'].quantile(q=0.25)\n",
    "Q3=df['blast_furnace_slag'].quantile(q=0.75)\n",
    "bL_outliers=Q1-1.5*(Q3-Q1)\n",
    "bU_outliers=Q3+1.5*(Q3-Q1)\n",
    "\n",
    "print('Lower outlier in water: ',bL_outliers)\n",
    "print('Upper outlier in water: ',bU_outliers)"
   ]
  },
  {
   "cell_type": "code",
   "execution_count": 95,
   "id": "9345b071",
   "metadata": {},
   "outputs": [
    {
     "name": "stdout",
     "output_type": "stream",
     "text": [
      "Number of outliers in slag upper:  2\n",
      "Number of outliers in slag lower:  0\n"
     ]
    }
   ],
   "source": [
    "print('Number of outliers in slag upper: ', df[df['blast_furnace_slag']>357.375]['blast_furnace_slag'].count())\n",
    "print('Number of outliers in slag lower: ', df[df['blast_furnace_slag']<-214.425]['blast_furnace_slag'].count())"
   ]
  },
  {
   "cell_type": "code",
   "execution_count": 96,
   "id": "29b62eaf",
   "metadata": {},
   "outputs": [],
   "source": [
    "new_df_cap['blast_furnace_slag'] = np.where(\n",
    "    new_df_cap['blast_furnace_slag'] > bU_outliers,\n",
    "    bU_outliers,\n",
    "    np.where(\n",
    "        new_df_cap['blast_furnace_slag'] < bL_outliers,\n",
    "        bL_outliers,\n",
    "        new_df_cap['blast_furnace_slag']\n",
    "    )\n",
    ")"
   ]
  },
  {
   "cell_type": "code",
   "execution_count": 97,
   "id": "bf044f94",
   "metadata": {},
   "outputs": [
    {
     "data": {
      "text/plain": [
       "<AxesSubplot:xlabel='blast_furnace_slag'>"
      ]
     },
     "execution_count": 97,
     "metadata": {},
     "output_type": "execute_result"
    },
    {
     "data": {
      "image/png": "[encoded data removed]",
      "text/plain": [
       "<Figure size 432x288 with 1 Axes>"
      ]
     },
     "metadata": {
      "needs_background": "light"
     },
     "output_type": "display_data"
    }
   ],
   "source": [
    "sns.boxplot(x='blast_furnace_slag', data=new_df_cap, orient='h')"
   ]
  },
  {
   "cell_type": "markdown",
   "id": "0371d52a",
   "metadata": {},
   "source": [
    "# age"
   ]
  },
  {
   "cell_type": "code",
   "execution_count": 98,
   "id": "1f500790",
   "metadata": {},
   "outputs": [],
   "source": [
    "Q1=df['age'].quantile(q=0.25)\n",
    "Q3=df['age'].quantile(q=0.75)"
   ]
  },
  {
   "cell_type": "code",
   "execution_count": 99,
   "id": "52fea845",
   "metadata": {},
   "outputs": [
    {
     "name": "stdout",
     "output_type": "stream",
     "text": [
      "Lower outlier in age:  -66.5\n",
      "Upper outlier in age:  129.5\n"
     ]
    }
   ],
   "source": [
    "\n",
    "L_outliers=Q1-1.5*(Q3-Q1)\n",
    "U_outliers=Q3+1.5*(Q3-Q1)\n",
    "\n",
    "print('Lower outlier in age: ',L_outliers)\n",
    "print('Upper outlier in age: ',U_outliers)"
   ]
  },
  {
   "cell_type": "code",
   "execution_count": 100,
   "id": "0c05ffac",
   "metadata": {},
   "outputs": [
    {
     "name": "stdout",
     "output_type": "stream",
     "text": [
      "Number of outliers in age upper:  59\n",
      "Number of outliers in age lower:  0\n"
     ]
    }
   ],
   "source": [
    "print('Number of outliers in age upper: ', df[df['age']>129.5]['age'].count())\n",
    "print('Number of outliers in age lower: ', df[df['age']<-66.5]['age'].count())"
   ]
  },
  {
   "cell_type": "code",
   "execution_count": 101,
   "id": "a8fd51f1",
   "metadata": {},
   "outputs": [
    {
     "data": {
      "text/plain": [
       "<AxesSubplot:xlabel='age'>"
      ]
     },
     "execution_count": 101,
     "metadata": {},
     "output_type": "execute_result"
    },
    {
     "data": {
      "image/png": "[encoded data removed]",
      "text/plain": [
       "<Figure size 432x288 with 1 Axes>"
      ]
     },
     "metadata": {
      "needs_background": "light"
     },
     "output_type": "display_data"
    }
   ],
   "source": [
    "sns.boxplot(x='age', data=df, orient='h')"
   ]
  },
  {
   "cell_type": "code",
   "execution_count": 102,
   "id": "e62028e8",
   "metadata": {},
   "outputs": [],
   "source": [
    "new_df_cap['age'] = np.where(\n",
    "    new_df_cap['age'] > U_outliers,\n",
    "    U_outliers,\n",
    "    np.where(\n",
    "        new_df_cap['age'] < L_outliers,\n",
    "        L_outliers,\n",
    "        new_df_cap['age']\n",
    "    )\n",
    ")"
   ]
  },
  {
   "cell_type": "code",
   "execution_count": 103,
   "id": "cd8bade0",
   "metadata": {},
   "outputs": [
    {
     "data": {
      "text/plain": [
       "<AxesSubplot:xlabel='age'>"
      ]
     },
     "execution_count": 103,
     "metadata": {},
     "output_type": "execute_result"
    },
    {
     "data": {
      "image/png": "[encoded data removed]",
      "text/plain": [
       "<Figure size 432x288 with 1 Axes>"
      ]
     },
     "metadata": {
      "needs_background": "light"
     },
     "output_type": "display_data"
    }
   ],
   "source": [
    "sns.boxplot(x='age', data=new_df_cap, orient='h')"
   ]
  },
  {
   "cell_type": "markdown",
   "id": "fd9a6e97",
   "metadata": {},
   "source": [
    "# ASH"
   ]
  },
  {
   "cell_type": "code",
   "execution_count": 104,
   "id": "6984d55b",
   "metadata": {},
   "outputs": [],
   "source": [
    "Q1=df['fly_ash'].quantile(q=0.25)\n",
    "Q3=df['fly_ash'].quantile(q=0.75)"
   ]
  },
  {
   "cell_type": "code",
   "execution_count": 105,
   "id": "5afd36db",
   "metadata": {},
   "outputs": [
    {
     "name": "stdout",
     "output_type": "stream",
     "text": [
      "Lower outlier in ash:  -177.45\n",
      "Upper outlier in ash:  295.75\n"
     ]
    }
   ],
   "source": [
    "L_outliers=Q1-1.5*(Q3-Q1)\n",
    "U_outliers=Q3+1.5*(Q3-Q1)\n",
    "\n",
    "print('Lower outlier in ash: ',L_outliers)\n",
    "print('Upper outlier in ash: ',U_outliers)"
   ]
  },
  {
   "cell_type": "code",
   "execution_count": 106,
   "id": "e3835868",
   "metadata": {},
   "outputs": [
    {
     "name": "stdout",
     "output_type": "stream",
     "text": [
      "Number of outliers in ash upper:  0\n",
      "Number of outliers in ash lower:  0\n"
     ]
    }
   ],
   "source": [
    "print('Number of outliers in ash upper: ', df[df['fly_ash']>295.75]['fly_ash'].count())\n",
    "print('Number of outliers in ash lower: ', df[df['fly_ash']<-177.45]['fly_ash'].count())"
   ]
  },
  {
   "cell_type": "markdown",
   "id": "62f91420",
   "metadata": {},
   "source": [
    "# superplasticizer"
   ]
  },
  {
   "cell_type": "code",
   "execution_count": 107,
   "id": "8d66113c",
   "metadata": {},
   "outputs": [],
   "source": [
    "Q1=df['superplasticizer'].quantile(q=0.25)\n",
    "Q3=df['superplasticizer'].quantile(q=0.75)"
   ]
  },
  {
   "cell_type": "code",
   "execution_count": 108,
   "id": "f2f28f02",
   "metadata": {},
   "outputs": [
    {
     "name": "stdout",
     "output_type": "stream",
     "text": [
      "Lower outlier in ash:  -15.299999999999999\n",
      "Upper outlier in ash:  25.5\n"
     ]
    }
   ],
   "source": [
    "L_outliers=Q1-1.5*(Q3-Q1)\n",
    "U_outliers=Q3+1.5*(Q3-Q1)\n",
    "\n",
    "print('Lower outlier in ash: ',L_outliers)\n",
    "print('Upper outlier in ash: ',U_outliers)"
   ]
  },
  {
   "cell_type": "code",
   "execution_count": 109,
   "id": "690562a7",
   "metadata": {},
   "outputs": [
    {
     "name": "stdout",
     "output_type": "stream",
     "text": [
      "Number of outliers in superplasticizer:  10\n",
      "Number of outliers in superplasticizer:  0\n"
     ]
    }
   ],
   "source": [
    "print('Number of outliers in superplasticizer: ', df[df['superplasticizer']>25.5]['superplasticizer'].count())\n",
    "print('Number of outliers in superplasticizer: ', df[df['superplasticizer']<-15.3]['superplasticizer'].count())"
   ]
  },
  {
   "cell_type": "code",
   "execution_count": 110,
   "id": "9c24c765",
   "metadata": {},
   "outputs": [],
   "source": [
    "new_df_cap['superplasticizer'] = np.where(\n",
    "    new_df_cap['superplasticizer'] > U_outliers,\n",
    "    U_outliers,\n",
    "    np.where(\n",
    "        new_df_cap['superplasticizer'] < L_outliers,\n",
    "        L_outliers,\n",
    "        new_df_cap['superplasticizer']\n",
    "    )\n",
    ")"
   ]
  },
  {
   "cell_type": "code",
   "execution_count": 111,
   "id": "3165b793",
   "metadata": {},
   "outputs": [
    {
     "data": {
      "text/plain": [
       "<AxesSubplot:xlabel='superplasticizer'>"
      ]
     },
     "execution_count": 111,
     "metadata": {},
     "output_type": "execute_result"
    },
    {
     "data": {
      "image/png": "[encoded data removed]",
      "text/plain": [
       "<Figure size 432x288 with 1 Axes>"
      ]
     },
     "metadata": {
      "needs_background": "light"
     },
     "output_type": "display_data"
    }
   ],
   "source": [
    "sns.boxplot(x='superplasticizer', data=new_df_cap, orient='h')"
   ]
  },
  {
   "cell_type": "markdown",
   "id": "41ff5e55",
   "metadata": {},
   "source": [
    "# coarse_aggregate"
   ]
  },
  {
   "cell_type": "code",
   "execution_count": 112,
   "id": "9e303022",
   "metadata": {},
   "outputs": [],
   "source": [
    "Q1=df['coarse_aggregate'].quantile(q=0.25)\n",
    "Q3=df['coarse_aggregate'].quantile(q=0.75)"
   ]
  },
  {
   "cell_type": "code",
   "execution_count": 113,
   "id": "63672199",
   "metadata": {},
   "outputs": [
    {
     "name": "stdout",
     "output_type": "stream",
     "text": [
      "Lower outlier in ash:  785.8999999999999\n",
      "Upper outlier in ash:  1175.5000000000002\n"
     ]
    }
   ],
   "source": [
    "L_outliers=Q1-1.5*(Q3-Q1)\n",
    "U_outliers=Q3+1.5*(Q3-Q1)\n",
    "\n",
    "print('Lower outlier in ash: ',L_outliers)\n",
    "print('Upper outlier in ash: ',U_outliers)"
   ]
  },
  {
   "cell_type": "code",
   "execution_count": 114,
   "id": "69a87eeb",
   "metadata": {},
   "outputs": [
    {
     "name": "stdout",
     "output_type": "stream",
     "text": [
      "Number of outliers in coarse_aggregate:  0\n",
      "Number of outliers in coarse_aggregate:  0\n"
     ]
    }
   ],
   "source": [
    "print('Number of outliers in coarse_aggregate: ', df[df['coarse_aggregate']>1175.5]['coarse_aggregate'].count())\n",
    "print('Number of outliers in coarse_aggregate: ', df[df['coarse_aggregate']<785.9]['coarse_aggregate'].count())"
   ]
  },
  {
   "cell_type": "markdown",
   "id": "14b55809",
   "metadata": {},
   "source": [
    "# fine_aggregate"
   ]
  },
  {
   "cell_type": "code",
   "execution_count": 117,
   "id": "62f793de",
   "metadata": {},
   "outputs": [],
   "source": [
    "Q1=df['fine_aggregate '].quantile(q=0.25)\n",
    "Q3=df['fine_aggregate '].quantile(q=0.75)"
   ]
  },
  {
   "cell_type": "code",
   "execution_count": 118,
   "id": "771580a6",
   "metadata": {},
   "outputs": [
    {
     "name": "stdout",
     "output_type": "stream",
     "text": [
      "Lower outlier in ash:  591.3750000000001\n",
      "Upper outlier in ash:  963.5749999999999\n"
     ]
    }
   ],
   "source": [
    "L_outliers=Q1-1.5*(Q3-Q1)\n",
    "U_outliers=Q3+1.5*(Q3-Q1)\n",
    "\n",
    "print('Lower outlier in ash: ',L_outliers)\n",
    "print('Upper outlier in ash: ',U_outliers)"
   ]
  },
  {
   "cell_type": "code",
   "execution_count": 120,
   "id": "beb3a4b6",
   "metadata": {},
   "outputs": [
    {
     "name": "stdout",
     "output_type": "stream",
     "text": [
      "Number of outliers in fine_aggregate :  5\n",
      "Number of outliers in fine_aggregate :  0\n"
     ]
    }
   ],
   "source": [
    "print('Number of outliers in fine_aggregate : ', df[df['fine_aggregate ']>963.575]['fine_aggregate '].count())\n",
    "print('Number of outliers in fine_aggregate : ', df[df['fine_aggregate ']<591.375]['fine_aggregate '].count())"
   ]
  },
  {
   "cell_type": "code",
   "execution_count": 121,
   "id": "d21c9558",
   "metadata": {},
   "outputs": [],
   "source": [
    "new_df_cap['fine_aggregate '] = np.where(\n",
    "    new_df_cap['fine_aggregate '] > U_outliers,\n",
    "    U_outliers,\n",
    "    np.where(\n",
    "        new_df_cap['fine_aggregate '] < L_outliers,\n",
    "        L_outliers,\n",
    "        new_df_cap['fine_aggregate ']\n",
    "    )\n",
    ")"
   ]
  },
  {
   "cell_type": "code",
   "execution_count": 122,
   "id": "9f9ba51d",
   "metadata": {},
   "outputs": [
    {
     "data": {
      "text/plain": [
       "<AxesSubplot:xlabel='fine_aggregate '>"
      ]
     },
     "execution_count": 122,
     "metadata": {},
     "output_type": "execute_result"
    },
    {
     "data": {
      "image/png": "[encoded data removed]",
      "text/plain": [
       "<Figure size 432x288 with 1 Axes>"
      ]
     },
     "metadata": {
      "needs_background": "light"
     },
     "output_type": "display_data"
    }
   ],
   "source": [
    "sns.boxplot(x='fine_aggregate ', data=new_df_cap, orient='h')"
   ]
  },
  {
   "cell_type": "markdown",
   "id": "a49266fe",
   "metadata": {},
   "source": [
    "# concrete_compressive_strength"
   ]
  },
  {
   "cell_type": "code",
   "execution_count": 123,
   "id": "0e727911",
   "metadata": {},
   "outputs": [],
   "source": [
    "Q1=df['concrete_compressive_strength'].quantile(q=0.25)\n",
    "Q3=df['concrete_compressive_strength'].quantile(q=0.75)"
   ]
  },
  {
   "cell_type": "code",
   "execution_count": 124,
   "id": "e81c4995",
   "metadata": {},
   "outputs": [
    {
     "name": "stdout",
     "output_type": "stream",
     "text": [
      "Lower outlier in ash:  -9.927500000000002\n",
      "Upper outlier in ash:  79.77250000000001\n"
     ]
    }
   ],
   "source": [
    "L_outliers=Q1-1.5*(Q3-Q1)\n",
    "U_outliers=Q3+1.5*(Q3-Q1)\n",
    "\n",
    "print('Lower outlier in ash: ',L_outliers)\n",
    "print('Upper outlier in ash: ',U_outliers)"
   ]
  },
  {
   "cell_type": "code",
   "execution_count": 125,
   "id": "13062aee",
   "metadata": {},
   "outputs": [
    {
     "name": "stdout",
     "output_type": "stream",
     "text": [
      "Number of outliers in concrete_compressive_strength :  4\n",
      "Number of outliers in concrete_compressive_strength :  0\n"
     ]
    }
   ],
   "source": [
    "print('Number of outliers in concrete_compressive_strength : ', df[df['concrete_compressive_strength']>79.77]['concrete_compressive_strength'].count())\n",
    "print('Number of outliers in concrete_compressive_strength : ', df[df['concrete_compressive_strength']<-9.927]['concrete_compressive_strength'].count())"
   ]
  },
  {
   "cell_type": "code",
   "execution_count": 126,
   "id": "3e86200f",
   "metadata": {},
   "outputs": [],
   "source": [
    "new_df_cap['concrete_compressive_strength'] = np.where(\n",
    "    new_df_cap['concrete_compressive_strength'] > U_outliers,\n",
    "    U_outliers,\n",
    "    np.where(\n",
    "        new_df_cap['concrete_compressive_strength'] < L_outliers,\n",
    "        L_outliers,\n",
    "        new_df_cap['concrete_compressive_strength']\n",
    "    )\n",
    ")"
   ]
  },
  {
   "cell_type": "code",
   "execution_count": 127,
   "id": "47868a55",
   "metadata": {},
   "outputs": [
    {
     "data": {
      "text/plain": [
       "<AxesSubplot:xlabel='concrete_compressive_strength'>"
      ]
     },
     "execution_count": 127,
     "metadata": {},
     "output_type": "execute_result"
    },
    {
     "data": {
      "image/png": "[encoded data removed]",
      "text/plain": [
       "<Figure size 432x288 with 1 Axes>"
      ]
     },
     "metadata": {
      "needs_background": "light"
     },
     "output_type": "display_data"
    }
   ],
   "source": [
    "sns.boxplot(x='concrete_compressive_strength', data=new_df_cap, orient='h')"
   ]
  },
  {
   "cell_type": "code",
   "execution_count": 128,
   "id": "a0dc484c",
   "metadata": {},
   "outputs": [
    {
     "data": {
      "text/plain": [
       "(1030, 9)"
      ]
     },
     "execution_count": 128,
     "metadata": {},
     "output_type": "execute_result"
    }
   ],
   "source": [
    "new_df_cap.shape"
   ]
  },
  {
   "cell_type": "code",
   "execution_count": 129,
   "id": "962f559c",
   "metadata": {},
   "outputs": [],
   "source": [
    "X=new_df_cap.drop('concrete_compressive_strength',axis=1)\n",
    "y=new_df_cap['concrete_compressive_strength']"
   ]
  },
  {
   "cell_type": "code",
   "execution_count": 130,
   "id": "bc279525",
   "metadata": {},
   "outputs": [],
   "source": [
    "from sklearn.model_selection import train_test_split\n",
    "X_train, X_test, Y_train, Y_test = train_test_split(X, y, test_size = 0.2,random_state=23)"
   ]
  },
  {
   "cell_type": "code",
   "execution_count": 131,
   "id": "f9035a96",
   "metadata": {},
   "outputs": [],
   "source": [
    "from sklearn.preprocessing import StandardScaler\n",
    "scaler = StandardScaler()\n",
    "scaler.fit(X_train)\n",
    "X_train=scaler.transform(X_train)\n",
    "X_test=scaler.transform(X_test)"
   ]
  },
  {
   "cell_type": "code",
   "execution_count": 132,
   "id": "dfbddd36",
   "metadata": {},
   "outputs": [],
   "source": [
    "from sklearn.ensemble import RandomForestRegressor\n",
    "rf = RandomForestRegressor(random_state=0)"
   ]
  },
  {
   "cell_type": "code",
   "execution_count": 133,
   "id": "5cda7dcc",
   "metadata": {},
   "outputs": [
    {
     "name": "stdout",
     "output_type": "stream",
     "text": [
      "0.9839643517702749\n",
      "0.8984810293847029\n"
     ]
    }
   ],
   "source": [
    "rf.fit(X_train,Y_train)\n",
    "print(rf.score(X_train,Y_train))\n",
    "print(rf.score(X_test,Y_test))"
   ]
  },
  {
   "cell_type": "code",
   "execution_count": 134,
   "id": "ccece9ea",
   "metadata": {},
   "outputs": [],
   "source": [
    "y_pred=rf.predict(X_test)"
   ]
  },
  {
   "cell_type": "code",
   "execution_count": 135,
   "id": "db2dadc3",
   "metadata": {},
   "outputs": [
    {
     "data": {
      "text/plain": [
       "29.96266700265131"
      ]
     },
     "execution_count": 135,
     "metadata": {},
     "output_type": "execute_result"
    }
   ],
   "source": [
    "from sklearn.metrics import mean_squared_error\n",
    "mean_squared_error(Y_test, y_pred)"
   ]
  },
  {
   "cell_type": "code",
   "execution_count": 142,
   "id": "359d63fd",
   "metadata": {},
   "outputs": [],
   "source": [
    "param_grid = {  'bootstrap': [True], 'max_depth': [5, 10,15, None], 'max_features': ['auto', 'sqrt'], 'n_estimators': [100, 300]}"
   ]
  },
  {
   "cell_type": "code",
   "execution_count": 143,
   "id": "56137d62",
   "metadata": {},
   "outputs": [],
   "source": [
    "from sklearn.model_selection import GridSearchCV\n",
    "rf_Grid = GridSearchCV(estimator = rf, param_grid = param_grid, \n",
    "\n",
    "                          cv = 5, n_jobs = 1, verbose = 0, return_train_score=True)"
   ]
  },
  {
   "cell_type": "code",
   "execution_count": 144,
   "id": "1c0565fc",
   "metadata": {},
   "outputs": [
    {
     "data": {
      "text/plain": [
       "GridSearchCV(cv=5, estimator=RandomForestRegressor(random_state=0), n_jobs=1,\n",
       "             param_grid={'bootstrap': [True], 'max_depth': [5, 10, 15, None],\n",
       "                         'max_features': ['auto', 'sqrt'],\n",
       "                         'n_estimators': [100, 300]},\n",
       "             return_train_score=True)"
      ]
     },
     "execution_count": 144,
     "metadata": {},
     "output_type": "execute_result"
    }
   ],
   "source": [
    "rf_Grid.fit(X_train, Y_train)"
   ]
  },
  {
   "cell_type": "code",
   "execution_count": 145,
   "id": "0238d629",
   "metadata": {},
   "outputs": [
    {
     "data": {
      "text/plain": [
       "{'bootstrap': True,\n",
       " 'max_depth': None,\n",
       " 'max_features': 'auto',\n",
       " 'n_estimators': 100}"
      ]
     },
     "execution_count": 145,
     "metadata": {},
     "output_type": "execute_result"
    }
   ],
   "source": [
    "rf_Grid.best_params_"
   ]
  },
  {
   "cell_type": "code",
   "execution_count": 146,
   "id": "83df5190",
   "metadata": {},
   "outputs": [
    {
     "name": "stdout",
     "output_type": "stream",
     "text": [
      "Train Accuracy - : 0.9840\n",
      "Test Accuracy - : 0.8985\n"
     ]
    }
   ],
   "source": [
    "print (f'Train Accuracy - : {rf_Grid.score(X_train,Y_train):.4f}')\n",
    "print (f'Test Accuracy - : {rf_Grid.score(X_test,Y_test):.4f}')"
   ]
  },
  {
   "cell_type": "code",
   "execution_count": 147,
   "id": "ea7b3439",
   "metadata": {},
   "outputs": [
    {
     "data": {
      "text/plain": [
       "29.96266700265131"
      ]
     },
     "execution_count": 147,
     "metadata": {},
     "output_type": "execute_result"
    }
   ],
   "source": [
    "ygrid_pred=rf_Grid.predict(X_test)\n",
    "from sklearn.metrics import mean_squared_error\n",
    "mean_squared_error(Y_test, ygrid_pred)"
   ]
  },
  {
   "cell_type": "code",
   "execution_count": 148,
   "id": "02096452",
   "metadata": {},
   "outputs": [
    {
     "data": {
      "text/plain": [
       "array([35.9042    , 10.1189    , 66.4025    , 13.6364    , 18.1095    ,\n",
       "       49.048125  , 11.2047    , 68.828625  , 49.0801    , 18.4774    ,\n",
       "       36.14761667, 29.6739    , 67.7519    , 31.8486    , 47.89016667,\n",
       "       10.9298    , 33.4215    , 63.01765357, 34.87195   , 41.222675  ,\n",
       "       32.8127    , 36.6968    , 32.6621    , 21.0819    , 30.0066    ,\n",
       "       60.656125  , 23.2545    , 60.7034    , 38.9373    , 26.8355    ,\n",
       "       40.1401    , 15.4348    , 61.6181    , 50.534925  , 27.4585    ,\n",
       "       13.572     , 39.3896    , 30.7676    ,  7.5065    , 23.9589    ,\n",
       "       63.3656    , 23.8473    , 40.9709    , 43.91686667, 12.3049    ,\n",
       "       32.7575    , 13.4404    , 42.09863333, 37.7892    , 35.5665    ,\n",
       "       35.3619    , 28.0283    , 41.02693333, 38.22174667, 29.9669    ,\n",
       "       41.176     , 19.3698    , 37.7936    , 31.0618    , 32.6985    ,\n",
       "       32.0069    , 40.57506667, 38.5759    , 31.6783    , 57.62175   ,\n",
       "       50.82775143, 38.22174667, 28.69919667, 60.4199    , 15.9222    ,\n",
       "       59.9884    , 38.9587    , 30.7982    , 16.2951    , 44.0314    ,\n",
       "       23.7884    , 31.624     , 68.111     , 48.7114    , 37.772     ,\n",
       "       31.52144167, 27.4585    , 14.506     , 40.607     , 29.8007    ,\n",
       "       69.44601   , 68.256525  , 33.0409    , 48.52815   , 23.2502    ,\n",
       "       56.5651    , 35.6416    , 30.8402    , 23.8905    , 63.4916    ,\n",
       "       22.4229    ,  7.9144    , 13.8658    ,  5.3082    , 46.47415714,\n",
       "       17.8289    , 65.1613    , 16.9982    ,  8.5447    , 53.42509333,\n",
       "       49.9273    , 42.5796    , 28.42269167, 44.3986    , 11.7876    ,\n",
       "       59.88375   , 38.8174    , 40.062     , 44.02620714, 34.1322    ,\n",
       "       39.39296857, 21.787     , 58.51298833, 33.5852    , 13.7109    ,\n",
       "       52.34466952, 65.3496    , 28.3951    ,  9.9414    , 65.1434    ,\n",
       "       27.8939    , 24.5534    , 64.1847    , 28.5789    , 23.7877    ,\n",
       "       37.825     , 49.35847   , 11.1118    , 35.18233333, 48.02800714,\n",
       "       46.5954    , 33.4389    , 77.32      , 50.98711083, 29.2326    ,\n",
       "       15.759     , 58.56355   , 59.969125  , 51.5695    , 39.0482    ,\n",
       "       41.7389    , 31.83025   , 24.3944    , 44.2261    , 64.1292    ,\n",
       "       35.1165    , 51.84800667, 65.965525  , 35.1165    , 24.1995    ,\n",
       "       40.5459    , 23.6184    , 30.7676    , 38.7826    , 32.0859    ,\n",
       "       31.5876    , 29.84443333, 45.57525833, 66.0336    , 48.52815   ,\n",
       "       22.7455    ,  7.1731    , 46.22125   , 16.9886    , 32.3699    ,\n",
       "       22.7001    , 26.57216667, 25.1286    , 27.0199    , 67.866     ,\n",
       "       11.5665    , 40.2325    , 25.5567    , 40.9256    , 42.7714    ,\n",
       "       34.5224    , 31.1161    , 32.8509    , 35.9797    , 38.48963333,\n",
       "       42.24933333, 42.16967333, 15.6853    , 61.70593333, 25.6129    ,\n",
       "       24.8403    , 42.62868333, 37.14729167, 25.5613    , 10.6683    ,\n",
       "       42.306     , 48.366     , 44.4112    , 11.2601    , 28.5388    ,\n",
       "       32.3491    , 38.3575    , 28.8721    , 36.97166667, 60.5031    ,\n",
       "       35.7088    ])"
      ]
     },
     "execution_count": 148,
     "metadata": {},
     "output_type": "execute_result"
    }
   ],
   "source": [
    "ygrid_pred"
   ]
  },
  {
   "cell_type": "code",
   "execution_count": null,
   "id": "e5d8a532",
   "metadata": {},
   "outputs": [],
   "source": []
  }
 ],
 "metadata": {
  "kernelspec": {
   "display_name": "Python 3 (ipykernel)",
   "language": "python",
   "name": "python3"
  },
  "language_info": {
   "codemirror_mode": {
    "name": "ipython",
    "version": 3
   },
   "file_extension": ".py",
   "mimetype": "text/x-python",
   "name": "python",
   "nbconvert_exporter": "python",
   "pygments_lexer": "ipython3",
   "version": "3.9.12"
  }
 },
 "nbformat": 4,
 "nbformat_minor": 5
}
