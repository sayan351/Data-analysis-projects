{
 "cells": [
  {
   "cell_type": "code",
   "execution_count": 1,
   "id": "c5259eb7",
   "metadata": {},
   "outputs": [],
   "source": [
    "import pandas as pd"
   ]
  },
  {
   "cell_type": "code",
   "execution_count": 27,
   "id": "033eddae",
   "metadata": {},
   "outputs": [],
   "source": [
    "df1=pd.read_csv(\"/Users/sayanbanerjee/Downloads/Data analysis projects/Data analysis colab file/Dataset/Book dataset/books.csv\")"
   ]
  },
  {
   "cell_type": "code",
   "execution_count": 12,
   "id": "44dd60ed",
   "metadata": {},
   "outputs": [
    {
     "data": {
      "text/html": [
       "<div>\n",
       "<style scoped>\n",
       "    .dataframe tbody tr th:only-of-type {\n",
       "        vertical-align: middle;\n",
       "    }\n",
       "\n",
       "    .dataframe tbody tr th {\n",
       "        vertical-align: top;\n",
       "    }\n",
       "\n",
       "    .dataframe thead th {\n",
       "        text-align: right;\n",
       "    }\n",
       "</style>\n",
       "<table border=\"1\" class=\"dataframe\">\n",
       "  <thead>\n",
       "    <tr style=\"text-align: right;\">\n",
       "      <th></th>\n",
       "      <th>book_id</th>\n",
       "      <th>goodreads_book_id</th>\n",
       "      <th>best_book_id</th>\n",
       "      <th>work_id</th>\n",
       "      <th>books_count</th>\n",
       "      <th>isbn</th>\n",
       "      <th>isbn13</th>\n",
       "      <th>authors</th>\n",
       "      <th>original_publication_year</th>\n",
       "      <th>original_title</th>\n",
       "      <th>...</th>\n",
       "      <th>work_ratings_count</th>\n",
       "      <th>work_text_reviews_count</th>\n",
       "      <th>ratings_1</th>\n",
       "      <th>ratings_2</th>\n",
       "      <th>ratings_3</th>\n",
       "      <th>ratings_4</th>\n",
       "      <th>ratings_5</th>\n",
       "      <th>image_url</th>\n",
       "      <th>small_image_url</th>\n",
       "      <th>NonEnglish</th>\n",
       "    </tr>\n",
       "  </thead>\n",
       "  <tbody>\n",
       "    <tr>\n",
       "      <th>0</th>\n",
       "      <td>5</td>\n",
       "      <td>4671</td>\n",
       "      <td>4671</td>\n",
       "      <td>245494</td>\n",
       "      <td>1356</td>\n",
       "      <td>743273567</td>\n",
       "      <td>9.780743e+12</td>\n",
       "      <td>F. Scott Fitzgerald</td>\n",
       "      <td>1925.0</td>\n",
       "      <td>The Great Gatsby</td>\n",
       "      <td>...</td>\n",
       "      <td>2773745</td>\n",
       "      <td>51992</td>\n",
       "      <td>86236</td>\n",
       "      <td>197621</td>\n",
       "      <td>606158</td>\n",
       "      <td>936012</td>\n",
       "      <td>947718</td>\n",
       "      <td>https://images.gr-assets.com/books/1490528560m...</td>\n",
       "      <td>https://images.gr-assets.com/books/1490528560s...</td>\n",
       "      <td>0</td>\n",
       "    </tr>\n",
       "    <tr>\n",
       "      <th>1</th>\n",
       "      <td>8</td>\n",
       "      <td>5107</td>\n",
       "      <td>5107</td>\n",
       "      <td>3036731</td>\n",
       "      <td>360</td>\n",
       "      <td>316769177</td>\n",
       "      <td>9.780317e+12</td>\n",
       "      <td>J.D. Salinger</td>\n",
       "      <td>1951.0</td>\n",
       "      <td>The Catcher in the Rye</td>\n",
       "      <td>...</td>\n",
       "      <td>2120637</td>\n",
       "      <td>44920</td>\n",
       "      <td>109383</td>\n",
       "      <td>185520</td>\n",
       "      <td>455042</td>\n",
       "      <td>661516</td>\n",
       "      <td>709176</td>\n",
       "      <td>https://images.gr-assets.com/books/1398034300m...</td>\n",
       "      <td>https://images.gr-assets.com/books/1398034300s...</td>\n",
       "      <td>0</td>\n",
       "    </tr>\n",
       "    <tr>\n",
       "      <th>2</th>\n",
       "      <td>32</td>\n",
       "      <td>890</td>\n",
       "      <td>890</td>\n",
       "      <td>40283</td>\n",
       "      <td>373</td>\n",
       "      <td>142000671</td>\n",
       "      <td>9.780142e+12</td>\n",
       "      <td>John Steinbeck</td>\n",
       "      <td>1937.0</td>\n",
       "      <td>Of Mice and Men</td>\n",
       "      <td>...</td>\n",
       "      <td>1518741</td>\n",
       "      <td>24642</td>\n",
       "      <td>46630</td>\n",
       "      <td>110856</td>\n",
       "      <td>355169</td>\n",
       "      <td>532291</td>\n",
       "      <td>473795</td>\n",
       "      <td>https://images.gr-assets.com/books/1437235233m...</td>\n",
       "      <td>https://images.gr-assets.com/books/1437235233s...</td>\n",
       "      <td>0</td>\n",
       "    </tr>\n",
       "    <tr>\n",
       "      <th>3</th>\n",
       "      <td>58</td>\n",
       "      <td>2956</td>\n",
       "      <td>2956</td>\n",
       "      <td>1835605</td>\n",
       "      <td>2277</td>\n",
       "      <td>142437174</td>\n",
       "      <td>9.780142e+12</td>\n",
       "      <td>Mark Twain, John Seelye, Guy Cardwell</td>\n",
       "      <td>1884.0</td>\n",
       "      <td>The Adventures of Huckleberry Finn</td>\n",
       "      <td>...</td>\n",
       "      <td>1001491</td>\n",
       "      <td>12448</td>\n",
       "      <td>28467</td>\n",
       "      <td>76630</td>\n",
       "      <td>255722</td>\n",
       "      <td>344356</td>\n",
       "      <td>296316</td>\n",
       "      <td>https://images.gr-assets.com/books/1405973850m...</td>\n",
       "      <td>https://images.gr-assets.com/books/1405973850s...</td>\n",
       "      <td>0</td>\n",
       "    </tr>\n",
       "    <tr>\n",
       "      <th>4</th>\n",
       "      <td>66</td>\n",
       "      <td>18405</td>\n",
       "      <td>18405</td>\n",
       "      <td>3358283</td>\n",
       "      <td>409</td>\n",
       "      <td>446675539</td>\n",
       "      <td>9.780447e+12</td>\n",
       "      <td>Margaret Mitchell</td>\n",
       "      <td>1936.0</td>\n",
       "      <td>Gone with the Wind</td>\n",
       "      <td>...</td>\n",
       "      <td>897303</td>\n",
       "      <td>16050</td>\n",
       "      <td>19996</td>\n",
       "      <td>33136</td>\n",
       "      <td>116160</td>\n",
       "      <td>234290</td>\n",
       "      <td>493721</td>\n",
       "      <td>https://images.gr-assets.com/books/1328025229m...</td>\n",
       "      <td>https://images.gr-assets.com/books/1328025229s...</td>\n",
       "      <td>0</td>\n",
       "    </tr>\n",
       "  </tbody>\n",
       "</table>\n",
       "<p>5 rows × 24 columns</p>\n",
       "</div>"
      ],
      "text/plain": [
       "   book_id  goodreads_book_id  best_book_id  work_id  books_count       isbn  \\\n",
       "0        5               4671          4671   245494         1356  743273567   \n",
       "1        8               5107          5107  3036731          360  316769177   \n",
       "2       32                890           890    40283          373  142000671   \n",
       "3       58               2956          2956  1835605         2277  142437174   \n",
       "4       66              18405         18405  3358283          409  446675539   \n",
       "\n",
       "         isbn13                                authors  \\\n",
       "0  9.780743e+12                    F. Scott Fitzgerald   \n",
       "1  9.780317e+12                          J.D. Salinger   \n",
       "2  9.780142e+12                         John Steinbeck   \n",
       "3  9.780142e+12  Mark Twain, John Seelye, Guy Cardwell   \n",
       "4  9.780447e+12                      Margaret Mitchell   \n",
       "\n",
       "   original_publication_year                      original_title  ...  \\\n",
       "0                     1925.0                    The Great Gatsby  ...   \n",
       "1                     1951.0              The Catcher in the Rye  ...   \n",
       "2                     1937.0                     Of Mice and Men  ...   \n",
       "3                     1884.0  The Adventures of Huckleberry Finn  ...   \n",
       "4                     1936.0                  Gone with the Wind  ...   \n",
       "\n",
       "  work_ratings_count work_text_reviews_count  ratings_1  ratings_2  ratings_3  \\\n",
       "0            2773745                   51992      86236     197621     606158   \n",
       "1            2120637                   44920     109383     185520     455042   \n",
       "2            1518741                   24642      46630     110856     355169   \n",
       "3            1001491                   12448      28467      76630     255722   \n",
       "4             897303                   16050      19996      33136     116160   \n",
       "\n",
       "   ratings_4  ratings_5                                          image_url  \\\n",
       "0     936012     947718  https://images.gr-assets.com/books/1490528560m...   \n",
       "1     661516     709176  https://images.gr-assets.com/books/1398034300m...   \n",
       "2     532291     473795  https://images.gr-assets.com/books/1437235233m...   \n",
       "3     344356     296316  https://images.gr-assets.com/books/1405973850m...   \n",
       "4     234290     493721  https://images.gr-assets.com/books/1328025229m...   \n",
       "\n",
       "                                     small_image_url  NonEnglish  \n",
       "0  https://images.gr-assets.com/books/1490528560s...           0  \n",
       "1  https://images.gr-assets.com/books/1398034300s...           0  \n",
       "2  https://images.gr-assets.com/books/1437235233s...           0  \n",
       "3  https://images.gr-assets.com/books/1405973850s...           0  \n",
       "4  https://images.gr-assets.com/books/1328025229s...           0  \n",
       "\n",
       "[5 rows x 24 columns]"
      ]
     },
     "execution_count": 12,
     "metadata": {},
     "output_type": "execute_result"
    }
   ],
   "source": [
    "df1.head()"
   ]
  },
  {
   "cell_type": "markdown",
   "id": "88a53813",
   "metadata": {},
   "source": [
    "# 1. How many books do not have an original title?"
   ]
  },
  {
   "cell_type": "code",
   "execution_count": 13,
   "id": "8a596784",
   "metadata": {},
   "outputs": [
    {
     "data": {
      "text/plain": [
       "22"
      ]
     },
     "execution_count": 13,
     "metadata": {},
     "output_type": "execute_result"
    }
   ],
   "source": [
    "len(df1[df1['original_title'].isnull()])"
   ]
  },
  {
   "cell_type": "markdown",
   "id": "e2bc82d1",
   "metadata": {},
   "source": [
    "# 2. How many unique books are present in the dataset ?"
   ]
  },
  {
   "cell_type": "code",
   "execution_count": 9,
   "id": "d3331eca",
   "metadata": {},
   "outputs": [
    {
     "data": {
      "text/plain": [
       "Index(['book_id', 'goodreads_book_id', 'best_book_id', 'work_id',\n",
       "       'books_count', 'isbn', 'isbn13', 'authors', 'original_publication_year',\n",
       "       'original_title', 'title', 'language_code', 'average_rating',\n",
       "       'ratings_count', 'work_ratings_count', 'work_text_reviews_count',\n",
       "       'ratings_1', 'ratings_2', 'ratings_3', 'ratings_4', 'ratings_5',\n",
       "       'image_url', 'small_image_url', 'NonEnglish'],\n",
       "      dtype='object')"
      ]
     },
     "execution_count": 9,
     "metadata": {},
     "output_type": "execute_result"
    }
   ],
   "source": [
    "df1.columns"
   ]
  },
  {
   "cell_type": "code",
   "execution_count": 10,
   "id": "b9042285",
   "metadata": {},
   "outputs": [
    {
     "data": {
      "text/plain": [
       "615"
      ]
     },
     "execution_count": 10,
     "metadata": {},
     "output_type": "execute_result"
    }
   ],
   "source": [
    "df1['book_id'].nunique()"
   ]
  },
  {
   "cell_type": "markdown",
   "id": "c25814fc",
   "metadata": {},
   "source": [
    "# 3. How many unique users are present in the dataset [ratings.csv] ?"
   ]
  },
  {
   "cell_type": "code",
   "execution_count": 14,
   "id": "0dd16a05",
   "metadata": {},
   "outputs": [],
   "source": [
    "df2=pd.read_csv(\"/Users/sayanbanerjee/Downloads/Data analysis projects/Data analysis colab file/Dataset/Book dataset/ratings.csv\")"
   ]
  },
  {
   "cell_type": "code",
   "execution_count": 15,
   "id": "86a89f0b",
   "metadata": {},
   "outputs": [
    {
     "data": {
      "text/html": [
       "<div>\n",
       "<style scoped>\n",
       "    .dataframe tbody tr th:only-of-type {\n",
       "        vertical-align: middle;\n",
       "    }\n",
       "\n",
       "    .dataframe tbody tr th {\n",
       "        vertical-align: top;\n",
       "    }\n",
       "\n",
       "    .dataframe thead th {\n",
       "        text-align: right;\n",
       "    }\n",
       "</style>\n",
       "<table border=\"1\" class=\"dataframe\">\n",
       "  <thead>\n",
       "    <tr style=\"text-align: right;\">\n",
       "      <th></th>\n",
       "      <th>user_id</th>\n",
       "      <th>book_id</th>\n",
       "      <th>rating</th>\n",
       "    </tr>\n",
       "  </thead>\n",
       "  <tbody>\n",
       "    <tr>\n",
       "      <th>0</th>\n",
       "      <td>2</td>\n",
       "      <td>4081</td>\n",
       "      <td>4</td>\n",
       "    </tr>\n",
       "    <tr>\n",
       "      <th>1</th>\n",
       "      <td>4</td>\n",
       "      <td>58</td>\n",
       "      <td>4</td>\n",
       "    </tr>\n",
       "    <tr>\n",
       "      <th>2</th>\n",
       "      <td>4</td>\n",
       "      <td>5</td>\n",
       "      <td>4</td>\n",
       "    </tr>\n",
       "    <tr>\n",
       "      <th>3</th>\n",
       "      <td>4</td>\n",
       "      <td>8</td>\n",
       "      <td>4</td>\n",
       "    </tr>\n",
       "    <tr>\n",
       "      <th>4</th>\n",
       "      <td>4</td>\n",
       "      <td>476</td>\n",
       "      <td>3</td>\n",
       "    </tr>\n",
       "  </tbody>\n",
       "</table>\n",
       "</div>"
      ],
      "text/plain": [
       "   user_id  book_id  rating\n",
       "0        2     4081       4\n",
       "1        4       58       4\n",
       "2        4        5       4\n",
       "3        4        8       4\n",
       "4        4      476       3"
      ]
     },
     "execution_count": 15,
     "metadata": {},
     "output_type": "execute_result"
    }
   ],
   "source": [
    "df2.head()"
   ]
  },
  {
   "cell_type": "code",
   "execution_count": 16,
   "id": "1e7c25e2",
   "metadata": {},
   "outputs": [
    {
     "data": {
      "text/plain": [
       "45965"
      ]
     },
     "execution_count": 16,
     "metadata": {},
     "output_type": "execute_result"
    }
   ],
   "source": [
    "df2['user_id'].nunique()"
   ]
  },
  {
   "cell_type": "markdown",
   "id": "6294cbbf",
   "metadata": {},
   "source": [
    "# 4. Which book (title) has the maximum number of ratings based on ‘work_ratings_count’ ? "
   ]
  },
  {
   "cell_type": "code",
   "execution_count": 17,
   "id": "97ba101e",
   "metadata": {},
   "outputs": [
    {
     "data": {
      "text/plain": [
       "Index(['book_id', 'goodreads_book_id', 'best_book_id', 'work_id',\n",
       "       'books_count', 'isbn', 'isbn13', 'authors', 'original_publication_year',\n",
       "       'original_title', 'title', 'language_code', 'average_rating',\n",
       "       'ratings_count', 'work_ratings_count', 'work_text_reviews_count',\n",
       "       'ratings_1', 'ratings_2', 'ratings_3', 'ratings_4', 'ratings_5',\n",
       "       'image_url', 'small_image_url', 'NonEnglish'],\n",
       "      dtype='object')"
      ]
     },
     "execution_count": 17,
     "metadata": {},
     "output_type": "execute_result"
    }
   ],
   "source": [
    "df1.columns"
   ]
  },
  {
   "cell_type": "code",
   "execution_count": 24,
   "id": "7e579e4f",
   "metadata": {},
   "outputs": [
    {
     "data": {
      "text/plain": [
       "0                                       The Great Gatsby\n",
       "1                                 The Catcher in the Rye\n",
       "2                                        Of Mice and Men\n",
       "3                     The Adventures of Huckleberry Finn\n",
       "4                                     Gone with the Wind\n",
       "                             ...                        \n",
       "610                                          The Pacific\n",
       "611                                The Measure of a Lady\n",
       "612                                  A Theory of Justice\n",
       "613                                   Billy Budd, Sailor\n",
       "614    Means of Ascent (The Years of Lyndon Johnson, #2)\n",
       "Name: title, Length: 615, dtype: object"
      ]
     },
     "execution_count": 24,
     "metadata": {},
     "output_type": "execute_result"
    }
   ],
   "source": [
    "df1['title']"
   ]
  },
  {
   "cell_type": "code",
   "execution_count": 28,
   "id": "3f25c2f4",
   "metadata": {},
   "outputs": [
    {
     "data": {
      "text/plain": [
       "0    The Great Gatsby\n",
       "Name: title, dtype: object"
      ]
     },
     "execution_count": 28,
     "metadata": {},
     "output_type": "execute_result"
    }
   ],
   "source": [
    "df1[df1['work_ratings_count'].max()==df1['work_ratings_count']]['title']"
   ]
  },
  {
   "cell_type": "code",
   "execution_count": 26,
   "id": "4bff7a50",
   "metadata": {},
   "outputs": [
    {
     "data": {
      "text/plain": [
       "dtype('int64')"
      ]
     },
     "execution_count": 26,
     "metadata": {},
     "output_type": "execute_result"
    }
   ],
   "source": [
    "df1['work_ratings_count'].dtype"
   ]
  },
  {
   "cell_type": "markdown",
   "id": "9b9871a6",
   "metadata": {},
   "source": [
    "# 5. Which tag_id  is the most frequently used ie. mapped with the highest number of books ?"
   ]
  },
  {
   "cell_type": "code",
   "execution_count": 30,
   "id": "b0a3b8f9",
   "metadata": {},
   "outputs": [],
   "source": [
    "df3=pd.read_csv(\"/Users/sayanbanerjee/Downloads/Data analysis projects/Data analysis colab file/Dataset/Book dataset/book_tags.csv\")"
   ]
  },
  {
   "cell_type": "code",
   "execution_count": 31,
   "id": "06f682a9",
   "metadata": {},
   "outputs": [
    {
     "data": {
      "text/html": [
       "<div>\n",
       "<style scoped>\n",
       "    .dataframe tbody tr th:only-of-type {\n",
       "        vertical-align: middle;\n",
       "    }\n",
       "\n",
       "    .dataframe tbody tr th {\n",
       "        vertical-align: top;\n",
       "    }\n",
       "\n",
       "    .dataframe thead th {\n",
       "        text-align: right;\n",
       "    }\n",
       "</style>\n",
       "<table border=\"1\" class=\"dataframe\">\n",
       "  <thead>\n",
       "    <tr style=\"text-align: right;\">\n",
       "      <th></th>\n",
       "      <th>goodreads_book_id</th>\n",
       "      <th>tag_id</th>\n",
       "      <th>count</th>\n",
       "    </tr>\n",
       "  </thead>\n",
       "  <tbody>\n",
       "    <tr>\n",
       "      <th>0</th>\n",
       "      <td>25</td>\n",
       "      <td>30574</td>\n",
       "      <td>816</td>\n",
       "    </tr>\n",
       "    <tr>\n",
       "      <th>1</th>\n",
       "      <td>25</td>\n",
       "      <td>15048</td>\n",
       "      <td>603</td>\n",
       "    </tr>\n",
       "    <tr>\n",
       "      <th>2</th>\n",
       "      <td>25</td>\n",
       "      <td>21773</td>\n",
       "      <td>540</td>\n",
       "    </tr>\n",
       "    <tr>\n",
       "      <th>3</th>\n",
       "      <td>25</td>\n",
       "      <td>19733</td>\n",
       "      <td>354</td>\n",
       "    </tr>\n",
       "    <tr>\n",
       "      <th>4</th>\n",
       "      <td>25</td>\n",
       "      <td>10891</td>\n",
       "      <td>154</td>\n",
       "    </tr>\n",
       "  </tbody>\n",
       "</table>\n",
       "</div>"
      ],
      "text/plain": [
       "   goodreads_book_id  tag_id  count\n",
       "0                 25   30574    816\n",
       "1                 25   15048    603\n",
       "2                 25   21773    540\n",
       "3                 25   19733    354\n",
       "4                 25   10891    154"
      ]
     },
     "execution_count": 31,
     "metadata": {},
     "output_type": "execute_result"
    }
   ],
   "source": [
    "df3.head()"
   ]
  },
  {
   "cell_type": "code",
   "execution_count": 33,
   "id": "3d7bce24",
   "metadata": {},
   "outputs": [
    {
     "data": {
      "text/plain": [
       "19200    30574\n",
       "Name: tag_id, dtype: int64"
      ]
     },
     "execution_count": 33,
     "metadata": {},
     "output_type": "execute_result"
    }
   ],
   "source": [
    "df3[df3['count'].max()==df3['count']]['tag_id']"
   ]
  },
  {
   "cell_type": "markdown",
   "id": "85b68fc8",
   "metadata": {},
   "source": [
    "# 6. Which book (title) has the most number of counts of tags given by the user ?"
   ]
  },
  {
   "cell_type": "code",
   "execution_count": 34,
   "id": "99fe6d63",
   "metadata": {},
   "outputs": [
    {
     "data": {
      "text/plain": [
       "Index(['book_id', 'goodreads_book_id', 'best_book_id', 'work_id',\n",
       "       'books_count', 'isbn', 'isbn13', 'authors', 'original_publication_year',\n",
       "       'original_title', 'title', 'language_code', 'average_rating',\n",
       "       'ratings_count', 'work_ratings_count', 'work_text_reviews_count',\n",
       "       'ratings_1', 'ratings_2', 'ratings_3', 'ratings_4', 'ratings_5',\n",
       "       'image_url', 'small_image_url', 'NonEnglish'],\n",
       "      dtype='object')"
      ]
     },
     "execution_count": 34,
     "metadata": {},
     "output_type": "execute_result"
    }
   ],
   "source": [
    "df1.columns"
   ]
  },
  {
   "cell_type": "code",
   "execution_count": 37,
   "id": "0ed90002",
   "metadata": {},
   "outputs": [],
   "source": [
    "books_combined=pd.merge(df1,df3,left_on='goodreads_book_id', right_on='goodreads_book_id', how='left')"
   ]
  },
  {
   "cell_type": "code",
   "execution_count": 38,
   "id": "4549ca2e",
   "metadata": {},
   "outputs": [
    {
     "data": {
      "text/html": [
       "<div>\n",
       "<style scoped>\n",
       "    .dataframe tbody tr th:only-of-type {\n",
       "        vertical-align: middle;\n",
       "    }\n",
       "\n",
       "    .dataframe tbody tr th {\n",
       "        vertical-align: top;\n",
       "    }\n",
       "\n",
       "    .dataframe thead th {\n",
       "        text-align: right;\n",
       "    }\n",
       "</style>\n",
       "<table border=\"1\" class=\"dataframe\">\n",
       "  <thead>\n",
       "    <tr style=\"text-align: right;\">\n",
       "      <th></th>\n",
       "      <th>book_id</th>\n",
       "      <th>goodreads_book_id</th>\n",
       "      <th>best_book_id</th>\n",
       "      <th>work_id</th>\n",
       "      <th>books_count</th>\n",
       "      <th>isbn</th>\n",
       "      <th>isbn13</th>\n",
       "      <th>authors</th>\n",
       "      <th>original_publication_year</th>\n",
       "      <th>original_title</th>\n",
       "      <th>...</th>\n",
       "      <th>ratings_1</th>\n",
       "      <th>ratings_2</th>\n",
       "      <th>ratings_3</th>\n",
       "      <th>ratings_4</th>\n",
       "      <th>ratings_5</th>\n",
       "      <th>image_url</th>\n",
       "      <th>small_image_url</th>\n",
       "      <th>NonEnglish</th>\n",
       "      <th>tag_id</th>\n",
       "      <th>count</th>\n",
       "    </tr>\n",
       "  </thead>\n",
       "  <tbody>\n",
       "    <tr>\n",
       "      <th>0</th>\n",
       "      <td>5</td>\n",
       "      <td>4671</td>\n",
       "      <td>4671</td>\n",
       "      <td>245494</td>\n",
       "      <td>1356</td>\n",
       "      <td>743273567</td>\n",
       "      <td>9.780743e+12</td>\n",
       "      <td>F. Scott Fitzgerald</td>\n",
       "      <td>1925.0</td>\n",
       "      <td>The Great Gatsby</td>\n",
       "      <td>...</td>\n",
       "      <td>86236</td>\n",
       "      <td>197621</td>\n",
       "      <td>606158</td>\n",
       "      <td>936012</td>\n",
       "      <td>947718</td>\n",
       "      <td>https://images.gr-assets.com/books/1490528560m...</td>\n",
       "      <td>https://images.gr-assets.com/books/1490528560s...</td>\n",
       "      <td>0</td>\n",
       "      <td>7457</td>\n",
       "      <td>32061</td>\n",
       "    </tr>\n",
       "    <tr>\n",
       "      <th>1</th>\n",
       "      <td>5</td>\n",
       "      <td>4671</td>\n",
       "      <td>4671</td>\n",
       "      <td>245494</td>\n",
       "      <td>1356</td>\n",
       "      <td>743273567</td>\n",
       "      <td>9.780743e+12</td>\n",
       "      <td>F. Scott Fitzgerald</td>\n",
       "      <td>1925.0</td>\n",
       "      <td>The Great Gatsby</td>\n",
       "      <td>...</td>\n",
       "      <td>86236</td>\n",
       "      <td>197621</td>\n",
       "      <td>606158</td>\n",
       "      <td>936012</td>\n",
       "      <td>947718</td>\n",
       "      <td>https://images.gr-assets.com/books/1490528560m...</td>\n",
       "      <td>https://images.gr-assets.com/books/1490528560s...</td>\n",
       "      <td>0</td>\n",
       "      <td>11557</td>\n",
       "      <td>20851</td>\n",
       "    </tr>\n",
       "    <tr>\n",
       "      <th>2</th>\n",
       "      <td>5</td>\n",
       "      <td>4671</td>\n",
       "      <td>4671</td>\n",
       "      <td>245494</td>\n",
       "      <td>1356</td>\n",
       "      <td>743273567</td>\n",
       "      <td>9.780743e+12</td>\n",
       "      <td>F. Scott Fitzgerald</td>\n",
       "      <td>1925.0</td>\n",
       "      <td>The Great Gatsby</td>\n",
       "      <td>...</td>\n",
       "      <td>86236</td>\n",
       "      <td>197621</td>\n",
       "      <td>606158</td>\n",
       "      <td>936012</td>\n",
       "      <td>947718</td>\n",
       "      <td>https://images.gr-assets.com/books/1490528560m...</td>\n",
       "      <td>https://images.gr-assets.com/books/1490528560s...</td>\n",
       "      <td>0</td>\n",
       "      <td>11743</td>\n",
       "      <td>15360</td>\n",
       "    </tr>\n",
       "    <tr>\n",
       "      <th>3</th>\n",
       "      <td>5</td>\n",
       "      <td>4671</td>\n",
       "      <td>4671</td>\n",
       "      <td>245494</td>\n",
       "      <td>1356</td>\n",
       "      <td>743273567</td>\n",
       "      <td>9.780743e+12</td>\n",
       "      <td>F. Scott Fitzgerald</td>\n",
       "      <td>1925.0</td>\n",
       "      <td>The Great Gatsby</td>\n",
       "      <td>...</td>\n",
       "      <td>86236</td>\n",
       "      <td>197621</td>\n",
       "      <td>606158</td>\n",
       "      <td>936012</td>\n",
       "      <td>947718</td>\n",
       "      <td>https://images.gr-assets.com/books/1490528560m...</td>\n",
       "      <td>https://images.gr-assets.com/books/1490528560s...</td>\n",
       "      <td>0</td>\n",
       "      <td>7404</td>\n",
       "      <td>5662</td>\n",
       "    </tr>\n",
       "    <tr>\n",
       "      <th>4</th>\n",
       "      <td>5</td>\n",
       "      <td>4671</td>\n",
       "      <td>4671</td>\n",
       "      <td>245494</td>\n",
       "      <td>1356</td>\n",
       "      <td>743273567</td>\n",
       "      <td>9.780743e+12</td>\n",
       "      <td>F. Scott Fitzgerald</td>\n",
       "      <td>1925.0</td>\n",
       "      <td>The Great Gatsby</td>\n",
       "      <td>...</td>\n",
       "      <td>86236</td>\n",
       "      <td>197621</td>\n",
       "      <td>606158</td>\n",
       "      <td>936012</td>\n",
       "      <td>947718</td>\n",
       "      <td>https://images.gr-assets.com/books/1490528560m...</td>\n",
       "      <td>https://images.gr-assets.com/books/1490528560s...</td>\n",
       "      <td>0</td>\n",
       "      <td>5207</td>\n",
       "      <td>3607</td>\n",
       "    </tr>\n",
       "  </tbody>\n",
       "</table>\n",
       "<p>5 rows × 26 columns</p>\n",
       "</div>"
      ],
      "text/plain": [
       "   book_id  goodreads_book_id  best_book_id  work_id  books_count       isbn  \\\n",
       "0        5               4671          4671   245494         1356  743273567   \n",
       "1        5               4671          4671   245494         1356  743273567   \n",
       "2        5               4671          4671   245494         1356  743273567   \n",
       "3        5               4671          4671   245494         1356  743273567   \n",
       "4        5               4671          4671   245494         1356  743273567   \n",
       "\n",
       "         isbn13              authors  original_publication_year  \\\n",
       "0  9.780743e+12  F. Scott Fitzgerald                     1925.0   \n",
       "1  9.780743e+12  F. Scott Fitzgerald                     1925.0   \n",
       "2  9.780743e+12  F. Scott Fitzgerald                     1925.0   \n",
       "3  9.780743e+12  F. Scott Fitzgerald                     1925.0   \n",
       "4  9.780743e+12  F. Scott Fitzgerald                     1925.0   \n",
       "\n",
       "     original_title  ... ratings_1 ratings_2  ratings_3  ratings_4  ratings_5  \\\n",
       "0  The Great Gatsby  ...     86236    197621     606158     936012     947718   \n",
       "1  The Great Gatsby  ...     86236    197621     606158     936012     947718   \n",
       "2  The Great Gatsby  ...     86236    197621     606158     936012     947718   \n",
       "3  The Great Gatsby  ...     86236    197621     606158     936012     947718   \n",
       "4  The Great Gatsby  ...     86236    197621     606158     936012     947718   \n",
       "\n",
       "                                           image_url  \\\n",
       "0  https://images.gr-assets.com/books/1490528560m...   \n",
       "1  https://images.gr-assets.com/books/1490528560m...   \n",
       "2  https://images.gr-assets.com/books/1490528560m...   \n",
       "3  https://images.gr-assets.com/books/1490528560m...   \n",
       "4  https://images.gr-assets.com/books/1490528560m...   \n",
       "\n",
       "                                     small_image_url  NonEnglish  tag_id  \\\n",
       "0  https://images.gr-assets.com/books/1490528560s...           0    7457   \n",
       "1  https://images.gr-assets.com/books/1490528560s...           0   11557   \n",
       "2  https://images.gr-assets.com/books/1490528560s...           0   11743   \n",
       "3  https://images.gr-assets.com/books/1490528560s...           0    7404   \n",
       "4  https://images.gr-assets.com/books/1490528560s...           0    5207   \n",
       "\n",
       "   count  \n",
       "0  32061  \n",
       "1  20851  \n",
       "2  15360  \n",
       "3   5662  \n",
       "4   3607  \n",
       "\n",
       "[5 rows x 26 columns]"
      ]
     },
     "execution_count": 38,
     "metadata": {},
     "output_type": "execute_result"
    }
   ],
   "source": [
    "books_combined.head()"
   ]
  },
  {
   "cell_type": "code",
   "execution_count": 40,
   "id": "c3378dca",
   "metadata": {},
   "outputs": [
    {
     "data": {
      "text/plain": [
       "(615, 24)"
      ]
     },
     "execution_count": 40,
     "metadata": {},
     "output_type": "execute_result"
    }
   ],
   "source": [
    "df1.shape"
   ]
  },
  {
   "cell_type": "code",
   "execution_count": 41,
   "id": "3d3790e7",
   "metadata": {},
   "outputs": [
    {
     "data": {
      "text/plain": [
       "400    Gone with the Wind\n",
       "Name: title, dtype: object"
      ]
     },
     "execution_count": 41,
     "metadata": {},
     "output_type": "execute_result"
    }
   ],
   "source": [
    "books_combined[books_combined['count'].max()==books_combined['count']]['title']"
   ]
  },
  {
   "cell_type": "markdown",
   "id": "9bde1e86",
   "metadata": {},
   "source": [
    "# 7. Which book (goodreads_book_id) is marked as to-read by most users? "
   ]
  },
  {
   "cell_type": "code",
   "execution_count": 43,
   "id": "28292cab",
   "metadata": {},
   "outputs": [],
   "source": [
    "df4=pd.read_csv(\"/Users/sayanbanerjee/Downloads/Data analysis projects/Data analysis colab file/Dataset/Book dataset/toread.csv\")"
   ]
  },
  {
   "cell_type": "code",
   "execution_count": 44,
   "id": "d7650c83",
   "metadata": {},
   "outputs": [
    {
     "data": {
      "text/html": [
       "<div>\n",
       "<style scoped>\n",
       "    .dataframe tbody tr th:only-of-type {\n",
       "        vertical-align: middle;\n",
       "    }\n",
       "\n",
       "    .dataframe tbody tr th {\n",
       "        vertical-align: top;\n",
       "    }\n",
       "\n",
       "    .dataframe thead th {\n",
       "        text-align: right;\n",
       "    }\n",
       "</style>\n",
       "<table border=\"1\" class=\"dataframe\">\n",
       "  <thead>\n",
       "    <tr style=\"text-align: right;\">\n",
       "      <th></th>\n",
       "      <th>user_id</th>\n",
       "      <th>book_id</th>\n",
       "    </tr>\n",
       "  </thead>\n",
       "  <tbody>\n",
       "    <tr>\n",
       "      <th>0</th>\n",
       "      <td>9</td>\n",
       "      <td>8</td>\n",
       "    </tr>\n",
       "    <tr>\n",
       "      <th>1</th>\n",
       "      <td>15</td>\n",
       "      <td>398</td>\n",
       "    </tr>\n",
       "    <tr>\n",
       "      <th>2</th>\n",
       "      <td>34</td>\n",
       "      <td>483</td>\n",
       "    </tr>\n",
       "    <tr>\n",
       "      <th>3</th>\n",
       "      <td>34</td>\n",
       "      <td>3581</td>\n",
       "    </tr>\n",
       "    <tr>\n",
       "      <th>4</th>\n",
       "      <td>29</td>\n",
       "      <td>131</td>\n",
       "    </tr>\n",
       "  </tbody>\n",
       "</table>\n",
       "</div>"
      ],
      "text/plain": [
       "   user_id  book_id\n",
       "0        9        8\n",
       "1       15      398\n",
       "2       34      483\n",
       "3       34     3581\n",
       "4       29      131"
      ]
     },
     "execution_count": 44,
     "metadata": {},
     "output_type": "execute_result"
    }
   ],
   "source": [
    "df4.head()"
   ]
  },
  {
   "cell_type": "code",
   "execution_count": 45,
   "id": "4de1dde8",
   "metadata": {},
   "outputs": [
    {
     "data": {
      "text/plain": [
       "Index(['book_id', 'goodreads_book_id', 'best_book_id', 'work_id',\n",
       "       'books_count', 'isbn', 'isbn13', 'authors', 'original_publication_year',\n",
       "       'original_title', 'title', 'language_code', 'average_rating',\n",
       "       'ratings_count', 'work_ratings_count', 'work_text_reviews_count',\n",
       "       'ratings_1', 'ratings_2', 'ratings_3', 'ratings_4', 'ratings_5',\n",
       "       'image_url', 'small_image_url', 'NonEnglish'],\n",
       "      dtype='object')"
      ]
     },
     "execution_count": 45,
     "metadata": {},
     "output_type": "execute_result"
    }
   ],
   "source": [
    "df1.columns"
   ]
  },
  {
   "cell_type": "code",
   "execution_count": 49,
   "id": "f6e6c277",
   "metadata": {},
   "outputs": [],
   "source": [
    "books_toread_combo=pd.merge(df1,df4,left_on='book_id', right_on='book_id', how='left')"
   ]
  },
  {
   "cell_type": "code",
   "execution_count": 50,
   "id": "24a3e088",
   "metadata": {},
   "outputs": [
    {
     "data": {
      "text/html": [
       "<div>\n",
       "<style scoped>\n",
       "    .dataframe tbody tr th:only-of-type {\n",
       "        vertical-align: middle;\n",
       "    }\n",
       "\n",
       "    .dataframe tbody tr th {\n",
       "        vertical-align: top;\n",
       "    }\n",
       "\n",
       "    .dataframe thead th {\n",
       "        text-align: right;\n",
       "    }\n",
       "</style>\n",
       "<table border=\"1\" class=\"dataframe\">\n",
       "  <thead>\n",
       "    <tr style=\"text-align: right;\">\n",
       "      <th></th>\n",
       "      <th>book_id</th>\n",
       "      <th>goodreads_book_id</th>\n",
       "      <th>best_book_id</th>\n",
       "      <th>work_id</th>\n",
       "      <th>books_count</th>\n",
       "      <th>isbn</th>\n",
       "      <th>isbn13</th>\n",
       "      <th>authors</th>\n",
       "      <th>original_publication_year</th>\n",
       "      <th>original_title</th>\n",
       "      <th>...</th>\n",
       "      <th>work_text_reviews_count</th>\n",
       "      <th>ratings_1</th>\n",
       "      <th>ratings_2</th>\n",
       "      <th>ratings_3</th>\n",
       "      <th>ratings_4</th>\n",
       "      <th>ratings_5</th>\n",
       "      <th>image_url</th>\n",
       "      <th>small_image_url</th>\n",
       "      <th>NonEnglish</th>\n",
       "      <th>user_id</th>\n",
       "    </tr>\n",
       "  </thead>\n",
       "  <tbody>\n",
       "    <tr>\n",
       "      <th>0</th>\n",
       "      <td>5</td>\n",
       "      <td>4671</td>\n",
       "      <td>4671</td>\n",
       "      <td>245494</td>\n",
       "      <td>1356</td>\n",
       "      <td>743273567</td>\n",
       "      <td>9.780743e+12</td>\n",
       "      <td>F. Scott Fitzgerald</td>\n",
       "      <td>1925.0</td>\n",
       "      <td>The Great Gatsby</td>\n",
       "      <td>...</td>\n",
       "      <td>51992</td>\n",
       "      <td>86236</td>\n",
       "      <td>197621</td>\n",
       "      <td>606158</td>\n",
       "      <td>936012</td>\n",
       "      <td>947718</td>\n",
       "      <td>https://images.gr-assets.com/books/1490528560m...</td>\n",
       "      <td>https://images.gr-assets.com/books/1490528560s...</td>\n",
       "      <td>0</td>\n",
       "      <td>124</td>\n",
       "    </tr>\n",
       "    <tr>\n",
       "      <th>1</th>\n",
       "      <td>5</td>\n",
       "      <td>4671</td>\n",
       "      <td>4671</td>\n",
       "      <td>245494</td>\n",
       "      <td>1356</td>\n",
       "      <td>743273567</td>\n",
       "      <td>9.780743e+12</td>\n",
       "      <td>F. Scott Fitzgerald</td>\n",
       "      <td>1925.0</td>\n",
       "      <td>The Great Gatsby</td>\n",
       "      <td>...</td>\n",
       "      <td>51992</td>\n",
       "      <td>86236</td>\n",
       "      <td>197621</td>\n",
       "      <td>606158</td>\n",
       "      <td>936012</td>\n",
       "      <td>947718</td>\n",
       "      <td>https://images.gr-assets.com/books/1490528560m...</td>\n",
       "      <td>https://images.gr-assets.com/books/1490528560s...</td>\n",
       "      <td>0</td>\n",
       "      <td>1453</td>\n",
       "    </tr>\n",
       "    <tr>\n",
       "      <th>2</th>\n",
       "      <td>5</td>\n",
       "      <td>4671</td>\n",
       "      <td>4671</td>\n",
       "      <td>245494</td>\n",
       "      <td>1356</td>\n",
       "      <td>743273567</td>\n",
       "      <td>9.780743e+12</td>\n",
       "      <td>F. Scott Fitzgerald</td>\n",
       "      <td>1925.0</td>\n",
       "      <td>The Great Gatsby</td>\n",
       "      <td>...</td>\n",
       "      <td>51992</td>\n",
       "      <td>86236</td>\n",
       "      <td>197621</td>\n",
       "      <td>606158</td>\n",
       "      <td>936012</td>\n",
       "      <td>947718</td>\n",
       "      <td>https://images.gr-assets.com/books/1490528560m...</td>\n",
       "      <td>https://images.gr-assets.com/books/1490528560s...</td>\n",
       "      <td>0</td>\n",
       "      <td>1582</td>\n",
       "    </tr>\n",
       "    <tr>\n",
       "      <th>3</th>\n",
       "      <td>5</td>\n",
       "      <td>4671</td>\n",
       "      <td>4671</td>\n",
       "      <td>245494</td>\n",
       "      <td>1356</td>\n",
       "      <td>743273567</td>\n",
       "      <td>9.780743e+12</td>\n",
       "      <td>F. Scott Fitzgerald</td>\n",
       "      <td>1925.0</td>\n",
       "      <td>The Great Gatsby</td>\n",
       "      <td>...</td>\n",
       "      <td>51992</td>\n",
       "      <td>86236</td>\n",
       "      <td>197621</td>\n",
       "      <td>606158</td>\n",
       "      <td>936012</td>\n",
       "      <td>947718</td>\n",
       "      <td>https://images.gr-assets.com/books/1490528560m...</td>\n",
       "      <td>https://images.gr-assets.com/books/1490528560s...</td>\n",
       "      <td>0</td>\n",
       "      <td>1935</td>\n",
       "    </tr>\n",
       "    <tr>\n",
       "      <th>4</th>\n",
       "      <td>5</td>\n",
       "      <td>4671</td>\n",
       "      <td>4671</td>\n",
       "      <td>245494</td>\n",
       "      <td>1356</td>\n",
       "      <td>743273567</td>\n",
       "      <td>9.780743e+12</td>\n",
       "      <td>F. Scott Fitzgerald</td>\n",
       "      <td>1925.0</td>\n",
       "      <td>The Great Gatsby</td>\n",
       "      <td>...</td>\n",
       "      <td>51992</td>\n",
       "      <td>86236</td>\n",
       "      <td>197621</td>\n",
       "      <td>606158</td>\n",
       "      <td>936012</td>\n",
       "      <td>947718</td>\n",
       "      <td>https://images.gr-assets.com/books/1490528560m...</td>\n",
       "      <td>https://images.gr-assets.com/books/1490528560s...</td>\n",
       "      <td>0</td>\n",
       "      <td>2965</td>\n",
       "    </tr>\n",
       "  </tbody>\n",
       "</table>\n",
       "<p>5 rows × 25 columns</p>\n",
       "</div>"
      ],
      "text/plain": [
       "   book_id  goodreads_book_id  best_book_id  work_id  books_count       isbn  \\\n",
       "0        5               4671          4671   245494         1356  743273567   \n",
       "1        5               4671          4671   245494         1356  743273567   \n",
       "2        5               4671          4671   245494         1356  743273567   \n",
       "3        5               4671          4671   245494         1356  743273567   \n",
       "4        5               4671          4671   245494         1356  743273567   \n",
       "\n",
       "         isbn13              authors  original_publication_year  \\\n",
       "0  9.780743e+12  F. Scott Fitzgerald                     1925.0   \n",
       "1  9.780743e+12  F. Scott Fitzgerald                     1925.0   \n",
       "2  9.780743e+12  F. Scott Fitzgerald                     1925.0   \n",
       "3  9.780743e+12  F. Scott Fitzgerald                     1925.0   \n",
       "4  9.780743e+12  F. Scott Fitzgerald                     1925.0   \n",
       "\n",
       "     original_title  ... work_text_reviews_count ratings_1  ratings_2  \\\n",
       "0  The Great Gatsby  ...                   51992     86236     197621   \n",
       "1  The Great Gatsby  ...                   51992     86236     197621   \n",
       "2  The Great Gatsby  ...                   51992     86236     197621   \n",
       "3  The Great Gatsby  ...                   51992     86236     197621   \n",
       "4  The Great Gatsby  ...                   51992     86236     197621   \n",
       "\n",
       "   ratings_3  ratings_4  ratings_5  \\\n",
       "0     606158     936012     947718   \n",
       "1     606158     936012     947718   \n",
       "2     606158     936012     947718   \n",
       "3     606158     936012     947718   \n",
       "4     606158     936012     947718   \n",
       "\n",
       "                                           image_url  \\\n",
       "0  https://images.gr-assets.com/books/1490528560m...   \n",
       "1  https://images.gr-assets.com/books/1490528560m...   \n",
       "2  https://images.gr-assets.com/books/1490528560m...   \n",
       "3  https://images.gr-assets.com/books/1490528560m...   \n",
       "4  https://images.gr-assets.com/books/1490528560m...   \n",
       "\n",
       "                                     small_image_url  NonEnglish  user_id  \n",
       "0  https://images.gr-assets.com/books/1490528560s...           0      124  \n",
       "1  https://images.gr-assets.com/books/1490528560s...           0     1453  \n",
       "2  https://images.gr-assets.com/books/1490528560s...           0     1582  \n",
       "3  https://images.gr-assets.com/books/1490528560s...           0     1935  \n",
       "4  https://images.gr-assets.com/books/1490528560s...           0     2965  \n",
       "\n",
       "[5 rows x 25 columns]"
      ]
     },
     "execution_count": 50,
     "metadata": {},
     "output_type": "execute_result"
    }
   ],
   "source": [
    "books_toread_combo.head()"
   ]
  },
  {
   "cell_type": "markdown",
   "id": "3f615c14",
   "metadata": {},
   "source": [
    "# 8. Which is the least used tag, i.e. mapped with the lowest number of books ?"
   ]
  },
  {
   "cell_type": "code",
   "execution_count": 51,
   "id": "12f447bb",
   "metadata": {},
   "outputs": [
    {
     "data": {
      "text/plain": [
       "Index(['goodreads_book_id', 'tag_id', 'count'], dtype='object')"
      ]
     },
     "execution_count": 51,
     "metadata": {},
     "output_type": "execute_result"
    }
   ],
   "source": [
    "df3.columns"
   ]
  },
  {
   "cell_type": "code",
   "execution_count": 54,
   "id": "9b7a354b",
   "metadata": {},
   "outputs": [
    {
     "data": {
      "text/plain": [
       "38886     49\n",
       "38899     64\n",
       "42278     68\n",
       "42294     96\n",
       "46891    773\n",
       "Name: tag_id, dtype: int64"
      ]
     },
     "execution_count": 54,
     "metadata": {},
     "output_type": "execute_result"
    }
   ],
   "source": [
    "df3[df3['count'].min()==df3['count']]['tag_id'].sort_values(ascending=True).head()"
   ]
  },
  {
   "cell_type": "code",
   "execution_count": 56,
   "id": "e82f761d",
   "metadata": {},
   "outputs": [],
   "source": [
    "# 49 is the number as it has the numerical value as per question."
   ]
  },
  {
   "cell_type": "markdown",
   "id": "8000ca14",
   "metadata": {},
   "source": [
    "# 9. Which book (title) has the minimum ‘average_rating’ ?"
   ]
  },
  {
   "cell_type": "code",
   "execution_count": 57,
   "id": "58cb0640",
   "metadata": {},
   "outputs": [
    {
     "data": {
      "text/plain": [
       "Index(['book_id', 'goodreads_book_id', 'best_book_id', 'work_id',\n",
       "       'books_count', 'isbn', 'isbn13', 'authors', 'original_publication_year',\n",
       "       'original_title', 'title', 'language_code', 'average_rating',\n",
       "       'ratings_count', 'work_ratings_count', 'work_text_reviews_count',\n",
       "       'ratings_1', 'ratings_2', 'ratings_3', 'ratings_4', 'ratings_5',\n",
       "       'image_url', 'small_image_url', 'NonEnglish'],\n",
       "      dtype='object')"
      ]
     },
     "execution_count": 57,
     "metadata": {},
     "output_type": "execute_result"
    }
   ],
   "source": [
    "df1.columns"
   ]
  },
  {
   "cell_type": "code",
   "execution_count": 59,
   "id": "6a4d1cda",
   "metadata": {},
   "outputs": [
    {
     "data": {
      "text/plain": [
       "463    To Rise Again at a Decent Hour\n",
       "Name: title, dtype: object"
      ]
     },
     "execution_count": 59,
     "metadata": {},
     "output_type": "execute_result"
    }
   ],
   "source": [
    "df1[df1['average_rating'].min()==df1['average_rating']]['title']"
   ]
  },
  {
   "cell_type": "markdown",
   "id": "3efdd0e8",
   "metadata": {},
   "source": [
    "# 10. Which book (goodreads_book_id) has the least number of count of tags given by the user ?"
   ]
  },
  {
   "cell_type": "code",
   "execution_count": 60,
   "id": "32369d57",
   "metadata": {},
   "outputs": [
    {
     "data": {
      "text/plain": [
       "Index(['book_id', 'goodreads_book_id', 'best_book_id', 'work_id',\n",
       "       'books_count', 'isbn', 'isbn13', 'authors', 'original_publication_year',\n",
       "       'original_title', 'title', 'language_code', 'average_rating',\n",
       "       'ratings_count', 'work_ratings_count', 'work_text_reviews_count',\n",
       "       'ratings_1', 'ratings_2', 'ratings_3', 'ratings_4', 'ratings_5',\n",
       "       'image_url', 'small_image_url', 'NonEnglish', 'tag_id', 'count'],\n",
       "      dtype='object')"
      ]
     },
     "execution_count": 60,
     "metadata": {},
     "output_type": "execute_result"
    }
   ],
   "source": [
    "books_combined.columns"
   ]
  },
  {
   "cell_type": "code",
   "execution_count": 62,
   "id": "8feea9aa",
   "metadata": {},
   "outputs": [],
   "source": [
    "res=books_combined[books_combined['count'].min()==books_combined['count']]['goodreads_book_id']"
   ]
  },
  {
   "cell_type": "code",
   "execution_count": 64,
   "id": "79ac9956",
   "metadata": {},
   "outputs": [
    {
     "data": {
      "text/plain": [
       "array([2918374,  207781,   21323,  369110,   65336, 1022866])"
      ]
     },
     "execution_count": 64,
     "metadata": {},
     "output_type": "execute_result"
    }
   ],
   "source": [
    "res.unique()"
   ]
  },
  {
   "cell_type": "markdown",
   "id": "035354db",
   "metadata": {},
   "source": [
    "# 11. How many tags are there in the dataset?\n"
   ]
  },
  {
   "cell_type": "code",
   "execution_count": 65,
   "id": "31c6d762",
   "metadata": {},
   "outputs": [
    {
     "data": {
      "text/plain": [
       "Index(['goodreads_book_id', 'tag_id', 'count'], dtype='object')"
      ]
     },
     "execution_count": 65,
     "metadata": {},
     "output_type": "execute_result"
    }
   ],
   "source": [
    "df3.columns"
   ]
  },
  {
   "cell_type": "code",
   "execution_count": 66,
   "id": "058aaa0e",
   "metadata": {},
   "outputs": [
    {
     "data": {
      "text/html": [
       "<div>\n",
       "<style scoped>\n",
       "    .dataframe tbody tr th:only-of-type {\n",
       "        vertical-align: middle;\n",
       "    }\n",
       "\n",
       "    .dataframe tbody tr th {\n",
       "        vertical-align: top;\n",
       "    }\n",
       "\n",
       "    .dataframe thead th {\n",
       "        text-align: right;\n",
       "    }\n",
       "</style>\n",
       "<table border=\"1\" class=\"dataframe\">\n",
       "  <thead>\n",
       "    <tr style=\"text-align: right;\">\n",
       "      <th></th>\n",
       "      <th>goodreads_book_id</th>\n",
       "      <th>tag_id</th>\n",
       "      <th>count</th>\n",
       "    </tr>\n",
       "  </thead>\n",
       "  <tbody>\n",
       "    <tr>\n",
       "      <th>0</th>\n",
       "      <td>25</td>\n",
       "      <td>30574</td>\n",
       "      <td>816</td>\n",
       "    </tr>\n",
       "    <tr>\n",
       "      <th>1</th>\n",
       "      <td>25</td>\n",
       "      <td>15048</td>\n",
       "      <td>603</td>\n",
       "    </tr>\n",
       "    <tr>\n",
       "      <th>2</th>\n",
       "      <td>25</td>\n",
       "      <td>21773</td>\n",
       "      <td>540</td>\n",
       "    </tr>\n",
       "    <tr>\n",
       "      <th>3</th>\n",
       "      <td>25</td>\n",
       "      <td>19733</td>\n",
       "      <td>354</td>\n",
       "    </tr>\n",
       "    <tr>\n",
       "      <th>4</th>\n",
       "      <td>25</td>\n",
       "      <td>10891</td>\n",
       "      <td>154</td>\n",
       "    </tr>\n",
       "  </tbody>\n",
       "</table>\n",
       "</div>"
      ],
      "text/plain": [
       "   goodreads_book_id  tag_id  count\n",
       "0                 25   30574    816\n",
       "1                 25   15048    603\n",
       "2                 25   21773    540\n",
       "3                 25   19733    354\n",
       "4                 25   10891    154"
      ]
     },
     "execution_count": 66,
     "metadata": {},
     "output_type": "execute_result"
    }
   ],
   "source": [
    "df3.head()"
   ]
  },
  {
   "cell_type": "code",
   "execution_count": 68,
   "id": "405e5919",
   "metadata": {},
   "outputs": [
    {
     "data": {
      "text/plain": [
       "62000"
      ]
     },
     "execution_count": 68,
     "metadata": {},
     "output_type": "execute_result"
    }
   ],
   "source": [
    "len(df3['tag_id'])"
   ]
  },
  {
   "cell_type": "markdown",
   "id": "bd612cad",
   "metadata": {},
   "source": [
    "# 12. What is the average rating of all the books in the dataset based on ‘average_rating?"
   ]
  },
  {
   "cell_type": "code",
   "execution_count": 69,
   "id": "8ff649ec",
   "metadata": {},
   "outputs": [
    {
     "data": {
      "text/plain": [
       "3.9437073170731693"
      ]
     },
     "execution_count": 69,
     "metadata": {},
     "output_type": "execute_result"
    }
   ],
   "source": [
    "df1['average_rating'].mean()"
   ]
  },
  {
   "cell_type": "markdown",
   "id": "a7436088",
   "metadata": {},
   "source": [
    "# 13. Find the number of books published in the year ‘2000’ based on the ‘original_publication_year’ ?"
   ]
  },
  {
   "cell_type": "code",
   "execution_count": 70,
   "id": "09413197",
   "metadata": {},
   "outputs": [
    {
     "data": {
      "text/plain": [
       "Index(['book_id', 'goodreads_book_id', 'best_book_id', 'work_id',\n",
       "       'books_count', 'isbn', 'isbn13', 'authors', 'original_publication_year',\n",
       "       'original_title', 'title', 'language_code', 'average_rating',\n",
       "       'ratings_count', 'work_ratings_count', 'work_text_reviews_count',\n",
       "       'ratings_1', 'ratings_2', 'ratings_3', 'ratings_4', 'ratings_5',\n",
       "       'image_url', 'small_image_url', 'NonEnglish'],\n",
       "      dtype='object')"
      ]
     },
     "execution_count": 70,
     "metadata": {},
     "output_type": "execute_result"
    }
   ],
   "source": [
    "df1.columns"
   ]
  },
  {
   "cell_type": "code",
   "execution_count": 71,
   "id": "83680500",
   "metadata": {},
   "outputs": [
    {
     "data": {
      "text/plain": [
       "615"
      ]
     },
     "execution_count": 71,
     "metadata": {},
     "output_type": "execute_result"
    }
   ],
   "source": [
    "len(df1['original_publication_year']==2000)"
   ]
  },
  {
   "cell_type": "markdown",
   "id": "5463577e",
   "metadata": {},
   "source": [
    "# 15. Plot a bar chart in Flourish with top 20 unique tags  in descending order of ‘user records’ (the number of users tagged the given tag_id with the goodreads_book_id) "
   ]
  },
  {
   "cell_type": "code",
   "execution_count": 73,
   "id": "d59b57e9",
   "metadata": {
    "scrolled": true
   },
   "outputs": [
    {
     "data": {
      "text/plain": [
       "Index(['goodreads_book_id', 'tag_id', 'count'], dtype='object')"
      ]
     },
     "execution_count": 73,
     "metadata": {},
     "output_type": "execute_result"
    }
   ],
   "source": [
    "df3.columns"
   ]
  },
  {
   "cell_type": "code",
   "execution_count": 84,
   "id": "cb84b05f",
   "metadata": {},
   "outputs": [
    {
     "data": {
      "text/plain": [
       "array([30574, 15048, 21773, ...,   896,  4358,  5342])"
      ]
     },
     "execution_count": 84,
     "metadata": {},
     "output_type": "execute_result"
    }
   ],
   "source": [
    "df3['tag_id'].unique()"
   ]
  },
  {
   "cell_type": "code",
   "execution_count": null,
   "id": "1f5dc872",
   "metadata": {},
   "outputs": [],
   "source": []
  }
 ],
 "metadata": {
  "kernelspec": {
   "display_name": "Python 3 (ipykernel)",
   "language": "python",
   "name": "python3"
  },
  "language_info": {
   "codemirror_mode": {
    "name": "ipython",
    "version": 3
   },
   "file_extension": ".py",
   "mimetype": "text/x-python",
   "name": "python",
   "nbconvert_exporter": "python",
   "pygments_lexer": "ipython3",
   "version": "3.9.12"
  }
 },
 "nbformat": 4,
 "nbformat_minor": 5
}
